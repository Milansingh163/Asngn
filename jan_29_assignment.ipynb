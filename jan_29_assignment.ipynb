{
 "cells": [
  {
   "cell_type": "markdown",
   "id": "4bbeef15",
   "metadata": {},
   "source": [
    "<h4>1. Who developed python programming language</h4>\n",
    "<br>\n",
    "Python programming language was developed by Guido van Rossum. He started working on Python in December 1989 and released the first version of the language in February 1991. Van Rossum named the language after Monty Python, the famous British comedy group, and chose to emphasize code readability, using whitespace and simple English words to indicate code blocks, among other things."
   ]
  },
  {
   "cell_type": "markdown",
   "id": "bf0cb2e7",
   "metadata": {},
   "source": [
    "<h4>2. Which type of programming does python support?</h4>\n",
    "<br>\n",
    "Python is a multi-paradigm programming language, meaning it supports multiple programming paradigms. The main paradigms supported by Python are:\n",
    "\n",
    "1. Imperative programming: This includes procedural programming and focuses on describing the steps the program must take to solve a problem.\n",
    "\n",
    "2. Object-oriented programming (OOP): This paradigm emphasizes the use of objects, which contain both data and methods, to structure the code.\n",
    "\n",
    "3. Functional programming: This paradigm emphasizes the use of functions, mathematical operations that take input, process it, and return an output.\n",
    "\n",
    "4. Scripting: This type of programming is used for writing scripts, small programs that automate repetitive tasks.\n",
    "\n",
    "With its clean syntax and support for multiple programming paradigms, Python is often used for a wide range of tasks, including web development, scientific computing, data analysis, artificial intelligence, and more."
   ]
  },
  {
   "cell_type": "markdown",
   "id": "33e2a916",
   "metadata": {},
   "source": [
    "<h4>3. Is python case sensitive while dealing with identifiers?</h4><br>\n",
    "Yes, Python is case-sensitive when it comes to dealing with identifiers such as variable names, function names, and module names. This means that the names \"Variable\", \"variable\", and \"VARIABLE\" would be treated as three separate and distinct names in Python."
   ]
  },
  {
   "cell_type": "markdown",
   "id": "073a8c81",
   "metadata": {},
   "source": [
    "<h4>4. What is correct extension of the python file?</h4> <br>\n",
    "The correct extension for a Python file is .py. This extension is used to indicate to the operating system and other tools that the file contains Python source code. When a file with the .py extension is executed, the Python interpreter reads the contents of the file and runs the code as a Python script.\n",
    "It's worth noting that Python files can also have other extensions, such as .pyc or .pyo, which are used for compiled Python code, but the standard extension for Python source code files is .py."
   ]
  },
  {
   "cell_type": "markdown",
   "id": "13150e85",
   "metadata": {},
   "source": [
    "<h4>5. Is python code compiled or interpreted ?\n",
    "</h4><br>\n",
    "Python code is interpreted, not compiled. This means that when you run a Python script, the Python interpreter reads the code line by line and executes it immediately. The interpreter does not produce a separate executable file that can be run on its own.\n",
    "\n",
    "Interpreted languages like Python are typically easier to develop and debug, as the code is executed immediately and you can see the results of your changes immediately. This makes the development process faster and more iterative, as you can make changes to the code, run it, and see the results without having to go through a separate compile and link step.\n",
    "\n",
    "However, the trade-off is that interpreted code typically runs slower than compiled code, as the interpreter has to perform extra work at runtime to execute the code. To mitigate this, some implementations of Python use Just-In-Time (JIT) compilation, which compiles the code to machine code dynamically at runtime, resulting in improved performance."
   ]
  },
  {
   "cell_type": "markdown",
   "id": "e45a902e",
   "metadata": {},
   "source": [
    "<h4>\n",
    "    6. Name a few blocks of code used to define in python language?\n",
    "</h4><br>\n",
    "In Python, there are several blocks of code used to define different structures:\n",
    "\n",
    "1. Function definition: A function is a block of reusable code that can be called multiple times. A function definition starts with the def keyword, followed by the function name, a pair of parentheses, and a colon. The code inside the function is indented and constitutes the body of the function.\n",
    "\n",
    "def greet(name):\n",
    "  print(\"Hello, \" + name + \"!\")\n",
    "\n",
    "2. Conditional statements: Conditional statements allow you to execute different blocks of code based on whether a certain condition is met. In Python, you can use the if statement to specify a condition, followed by a colon and an indented block of code. You can also use the elif and else keywords to specify additional conditions and a default code block, respectively.\n",
    "x = 10\n",
    "if x > 5:\n",
    "  print(\"x is greater than 5\")\n",
    "else:\n",
    "  print(\"x is less than or equal to 5\")\n",
    "\n",
    "3. Loops: Loops allow you to repeat a block of code a specified number of times. Python provides two types of loops: the for loop and the while loop. The for loop is used to iterate over a sequence of elements, such as a list or a string. The while loop is used to repeat a block of code as long as a certain condition is met.\n",
    "\n",
    "for loop\n",
    "\n",
    "for i in range(5):\n",
    "  print(i)\n",
    "\n",
    "while loop\n",
    "\n",
    "x = 0\n",
    "while x < 5:\n",
    "  print(x)\n",
    "  x += 1\n",
    "\n",
    "4. Classes: Classes allow you to define custom data types and objects in Python. A class definition starts with the class keyword, followed by the class name, a pair of parentheses, and a colon. The code inside the class is indented and constitutes the body of the class.\n",
    "\n",
    "class Person:\n",
    "  def __init__(self, name, age):\n",
    "    self.name = name\n",
    "    self.age = age\n",
    "  \n",
    "  def say_hello(self):\n",
    "    print(\"Hello, my name is \" + self.name)\n"
   ]
  },
  {
   "cell_type": "markdown",
   "id": "ddd8bdf7",
   "metadata": {},
   "source": [
    "<h4>7. State a character used to give single line comments in python</h4><br>\n",
    "In Python, you can add a single-line comment by starting a line with the hash symbol (#). Everything on the line after the hash symbol is ignored by the Python interpreter and is treated as a comment.<br>\n",
    "'# This is a single-line comment in Python' <br>\n",
    "x = 10 # You can also add a comment after some code on the same line\n"
   ]
  },
  {
   "cell_type": "markdown",
   "id": "568f4a5f",
   "metadata": {},
   "source": [
    "<h4>8. Mention functions which can help us to find the version of python that we are currently working on \n",
    "</h4><br>\n",
    "    \n",
    "In Python, there are a couple of ways to find the version of Python that you are currently working with:\n",
    "\n",
    "1. sys.version: You can access the sys module and use the version attribute to get a string that contains information about the version of Python you are running.\n",
    "\n",
    "2. platform.python_version(): You can access the platform module and use the python_version() function to get a string that represents the version of Python you are running."
   ]
  },
  {
   "cell_type": "code",
   "execution_count": 1,
   "id": "31d1cb60",
   "metadata": {},
   "outputs": [
    {
     "name": "stdout",
     "output_type": "stream",
     "text": [
      "3.9.13 (main, Aug 25 2022, 23:51:50) [MSC v.1916 64 bit (AMD64)]\n"
     ]
    }
   ],
   "source": [
    "import sys\n",
    "print(sys.version)\n"
   ]
  },
  {
   "cell_type": "code",
   "execution_count": 2,
   "id": "ffa66421",
   "metadata": {},
   "outputs": [
    {
     "name": "stdout",
     "output_type": "stream",
     "text": [
      "3.9.13\n"
     ]
    }
   ],
   "source": [
    "import platform\n",
    "print(platform.python_version())\n"
   ]
  },
  {
   "cell_type": "markdown",
   "id": "afc91716",
   "metadata": {},
   "source": [
    "<h4>9. Python supports construction of anonymous functions at runtime, using a construct called ?\n",
    "</h4><br>\n",
    "    \n",
    "\n",
    "In Python, anonymous functions at runtime can be constructed using a construct called a \"lambda function.\" A lambda function is a small anonymous function that can take any number of arguments, but can only have one expression. The syntax for defining a lambda function is as follows:"
   ]
  },
  {
   "cell_type": "code",
   "execution_count": 4,
   "id": "234a4895",
   "metadata": {},
   "outputs": [
    {
     "name": "stdout",
     "output_type": "stream",
     "text": [
      "30\n",
      "[1, 4, 9, 16, 25]\n"
     ]
    }
   ],
   "source": [
    "# A lambda function that takes two arguments and returns their sum\n",
    "sum = lambda a, b: a + b\n",
    "print(sum(10, 20)) # Output: 30\n",
    "\n",
    "# Using a lambda function as an argument to the built-in `map` function\n",
    "numbers = [1, 2, 3, 4, 5]\n",
    "squared_numbers = list(map(lambda x: x**2, numbers))\n",
    "print(squared_numbers) # Output: [1, 4, 9, 16, 25]\n"
   ]
  },
  {
   "cell_type": "markdown",
   "id": "f7e1a7c5",
   "metadata": {},
   "source": [
    "<h4>10. what does pip stand for in python?\n",
    "</h4><br>\n",
    "\"pip\" stands for \"Pip Installs Packages.\" It is a package management system used to install and manage packages or modules written in Python. Pip makes it easy to install and manage packages from the Python Package Index (PyPI)\n",
    "\n",
    "<br>\n",
    "pip install package_name\n",
    "<br>\n",
    "pip install --upgrade package_name\n",
    "<br>\n",
    "pip uninstall package_name\n"
   ]
  },
  {
   "cell_type": "markdown",
   "id": "99f8a717",
   "metadata": {},
   "source": [
    "<h4>11. Mention a few built in functions in python?\n",
    "</h4>\n",
    "    <br>\n",
    "Python has a rich set of built-in functions that provide useful functionality for a variety of tasks. Here are a few of the most commonly used built-in functions in Python:\n",
    "\n",
    "1. print(): Used to display output on the screen.\n",
    "\n",
    "2. len(): Returns the length of an object, such as a string, list, or tuple.\n",
    "\n",
    "3. type(): Returns the type of an object.\n",
    "\n",
    "4. int(), float(), str(), and bool(): Used to convert objects to integer, floating-point, string, and boolean data types, respectively.\n",
    "\n",
    "5. max() and min(): Return the largest and smallest elements of a sequence, respectively.\n",
    "\n",
    "6. sorted(): Returns a sorted list from a given iterable.\n",
    "\n",
    "7. sum(): Returns the sum of elements in a sequence.\n",
    "\n",
    "8. range(): Generates a range of integers."
   ]
  },
  {
   "cell_type": "markdown",
   "id": "31a3316c",
   "metadata": {},
   "source": [
    "<h4>12. What is the maximum possible length of an identifier in python?\n",
    "</h4>\n",
    "    <br>\n",
    "There is no specific limit to the length of an identifier in Python, but there are some practical limits to keep in mind. An identifier can be any combination of letters, digits, and underscores, as long as it does not start with a digit and is not a reserved word."
   ]
  },
  {
   "cell_type": "markdown",
   "id": "332545c1",
   "metadata": {},
   "source": [
    "<h4>13. What are the benefits of using python?</h4> <br>\n",
    "\n",
    "Python is a popular, high-level programming language that offers a number of benefits for programmers and organizations. Some of the benefits of using Python include:\n",
    "\n",
    "Easy to learn and use: Python has a simple, intuitive syntax that is easy for beginners to learn and start coding with, and is also easy for experienced developers to pick up.\n",
    "\n",
    "Highly readable: Python code is known for being highly readable and maintainable, which makes it easier for teams to work together and for others to understand your code.\n",
    "\n",
    "Versatile: Python can be used for a wide variety of tasks, including web development, scientific computing, data analysis, artificial intelligence, and more.\n",
    "\n",
    "Large and active community: Python has a large and active community of developers, which means that there is a wealth of resources, libraries, and support available for those who use it.\n",
    "\n",
    "Plenty of libraries and tools: Python has a large number of libraries and tools available, which makes it easy to perform many tasks without having to write code from scratch.\n",
    "\n",
    "Open-source: Python is open-source software, which means that it is free to use, distribute, and modify. This makes it a great choice for organizations that need to keep costs low.\n",
    "\n",
    "Overall, Python's combination of ease of use, versatility, and support make it a popular choice for developers and organizations of all sizes.\n",
    "\n",
    "\n",
    "\n",
    "\n"
   ]
  },
  {
   "cell_type": "markdown",
   "id": "0097a94f",
   "metadata": {},
   "source": [
    "<h4>14. How is memory managed in Python? </h4> <br>\n",
    "\n",
    "Python manages memory automatically using a memory management system known as reference counting. In this system, each object in Python has a count of the number of references (or \"pointers\") that point to it in memory. When the reference count of an object drops to zero, meaning there are no longer any references pointing to it, the memory occupied by that object is automatically deallocated and made available for other parts of the program to use.\n",
    "\n",
    "In addition to reference counting, Python also uses a garbage collector to identify and reclaim objects that are no longer needed by the program. The garbage collector keeps track of the objects in the program and periodically checks for objects that have a reference count of zero, indicating that they are no longer in use. When such objects are found, they are automatically removed from memory.\n",
    "\n",
    "This combination of reference counting and garbage collection allows Python to manage memory efficiently and automatically, freeing up developers from having to manually manage memory allocation and deallocation. However, it is important to note that some objects in Python, such as file handles or network connections, may not be automatically deallocated by the garbage collector, and it is up to the developer to ensure that these resources are properly closed or released when they are no longer needed.\n",
    "\n"
   ]
  },
  {
   "cell_type": "markdown",
   "id": "b9190376",
   "metadata": {},
   "source": [
    "<h4>15. How to install python on Windows and set path variables?</h4> <br>\n",
    "\n",
    "1. Download Python: Go to the official Python website (python.org) and download the latest version of Python for Windows.\n",
    "\n",
    "2. Install Python: Double-click the downloaded Python executable file and follow the installation wizard to install Python on your system. Make sure to check the option to \"Add Python to PATH\" during the installation process.\n",
    "\n",
    "3. Verify the installation: To verify the installation, open Command Prompt and type \"python\" (without the quotes). If Python has been installed correctly, you should see the Python interactive shell prompt, indicating that Python is ready to use.\n",
    "\n",
    "4. Set the path variables:\n",
    "\n",
    "    Right-click the Start menu button and select System.\n",
    "    Click on Advanced system settings.\n",
    "    Click on the Environment Variables button.\n",
    "    Under System Variables, scroll down and find the Path variable, then click on Edit.\n",
    "    Click New and add the path to the Python installation (e.g., C:\\PythonXX\\Scripts, where XX is the version number).\n",
    "    Close all open windows and restart any open command prompt windows for the changes to take effect."
   ]
  },
  {
   "cell_type": "markdown",
   "id": "5856c1d4",
   "metadata": {},
   "source": [
    "<h4>16. Is Indentation required in Python? </h4> <br>\n",
    "\n",
    "Yes, indentation is required in Python. In Python, whitespace (indentation) is used to define code blocks and determine the structure of your code. Unlike other programming languages, which use braces or keywords to define code blocks, Python uses indentation to specify the scope of a code block.\n",
    "\n",
    "For example, a code block within an if statement or a for loop is defined by the indentation of the lines within that block. This makes the code easier to read and understand, as the structure of the code is visually clear."
   ]
  }
 ],
 "metadata": {
  "kernelspec": {
   "display_name": "Python 3 (ipykernel)",
   "language": "python",
   "name": "python3"
  },
  "language_info": {
   "codemirror_mode": {
    "name": "ipython",
    "version": 3
   },
   "file_extension": ".py",
   "mimetype": "text/x-python",
   "name": "python",
   "nbconvert_exporter": "python",
   "pygments_lexer": "ipython3",
   "version": "3.9.13"
  }
 },
 "nbformat": 4,
 "nbformat_minor": 5
}
