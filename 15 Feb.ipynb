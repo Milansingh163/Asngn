{
 "cells": [
  {
   "cell_type": "markdown",
   "metadata": {},
   "source": [
    "<h3>Q1. What is multiprocessing in python? Why is it useful?</h3>"
   ]
  },
  {
   "attachments": {},
   "cell_type": "markdown",
   "metadata": {},
   "source": [
    "<p>Multiprocessing in Python is a technique that allows the execution of multiple processes or tasks in parallel on a multi-core CPU or multiple CPUs. It is a way of achieving concurrency by creating separate processes that run independently, each with its own memory space and Python interpreter.\n",
    "\n",
    "Multiprocessing is useful because it allows you to take advantage of the multiple cores available on modern CPUs, which can significantly speed up the execution of your program. By using multiprocessing, you can split a task into multiple independent subtasks that can be executed simultaneously on different cores, allowing you to take full advantage of the available hardware resources.\n",
    "\n",
    "Additionally, multiprocessing can also be used to improve the robustness and reliability of your code. By running tasks in separate processes, you can isolate them from each other and prevent errors in one task from affecting the others. This can be especially useful when dealing with tasks that involve external resources, such as I/O operations, network requests, or interactions with other processes.</p>"
   ]
  },
  {
   "attachments": {},
   "cell_type": "markdown",
   "metadata": {},
   "source": [
    "<h3>Q2. What are the differences between multiprocessing and multithreading?</h3>"
   ]
  },
  {
   "attachments": {},
   "cell_type": "markdown",
   "metadata": {},
   "source": [
    "<p>Both multiprocessing and multithreading are techniques used for achieving concurrency in Python, but they differ in how they create and manage separate tasks.\n",
    "\n",
    "Multiprocessing involves creating multiple processes, each with its own memory space and Python interpreter, to execute tasks in parallel. Each process runs independently and communicates with other processes through inter-process communication (IPC) mechanisms, such as pipes, queues, or shared memory. Multiprocessing is suitable for CPU-bound tasks that require significant processing power and do not involve much I/O or communication with external resources.\n",
    "\n",
    "On the other hand, multithreading involves creating multiple threads within a single process, each executing a separate task in parallel. All threads share the same memory space and Python interpreter, allowing them to communicate with each other directly through shared variables. Multithreading is suitable for I/O-bound tasks that involve significant waiting times, such as reading and writing to files or sending and receiving data over a network.\n",
    "\n",
    "Some key differences between multiprocessing and multithreading are:\n",
    "\n",
    "Memory: In multiprocessing, each process has its own memory space, while in multithreading, all threads share the same memory space.\n",
    "\n",
    "Parallelism: Multiprocessing achieves true parallelism, as each process can run on a separate CPU core, while multithreading only achieves concurrent execution, as all threads run within a single process.\n",
    "\n",
    "Communication: In multiprocessing, inter-process communication mechanisms are used for communication between processes, while in multithreading, shared variables are used for communication between threads.\n",
    "\n",
    "Overhead: Multiprocessing has higher overhead than multithreading, as it requires creating and managing multiple processes, while multithreading only requires creating and managing multiple threads within a single process.\n",
    "\n",
    "Overall, the choice between multiprocessing and multithreading depends on the nature of the task and the available hardware resources. For CPU-bound tasks, multiprocessing may provide better performance, while for I/O-bound tasks, multithreading may be more suitable.</p>"
   ]
  },
  {
   "attachments": {},
   "cell_type": "markdown",
   "metadata": {},
   "source": [
    "<h3>Q3. Write a python code to create a process using the multiprocessing module.</h3>"
   ]
  },
  {
   "cell_type": "code",
   "execution_count": 31,
   "metadata": {},
   "outputs": [
    {
     "name": "stdout",
     "output_type": "stream",
     "text": [
      "main method\n",
      "[1, 4, 9, 16, 25]\n"
     ]
    }
   ],
   "source": [
    "import multiprocessing\n",
    "def list_data(data):\n",
    "    return print([i**2 for i in data])\n",
    "\n",
    "if __name__=='__main__':\n",
    "    data = [1,2,3,4,5]\n",
    "    m = multiprocessing.Process(target=list_data,args=(data,))\n",
    "    print('main method')\n",
    "    m.start()\n",
    "    m.join()"
   ]
  },
  {
   "attachments": {},
   "cell_type": "markdown",
   "metadata": {},
   "source": [
    "<h3>Q4. What is a multiprocessing pool in python? Why is it used?</h3>"
   ]
  },
  {
   "attachments": {},
   "cell_type": "markdown",
   "metadata": {},
   "source": [
    "<p>In Python, a multiprocessing pool is a way to manage a group of worker processes that can execute tasks in parallel. A pool consists of a fixed number of worker processes, each of which can be assigned tasks from a task queue. When a task is added to the queue, it is picked up by an available worker process, and the result of the task is returned when it is completed.\n",
    "\n",
    "The multiprocessing pool is used to simplify the management of multiple worker processes, allowing you to distribute tasks across them without having to handle the process creation and management manually. The pool provides a simple interface for submitting tasks and retrieving their results, abstracting away the underlying details of process creation and communication.\n",
    "\n",
    "Using a multiprocessing pool can improve the performance of CPU-bound tasks, as it allows you to take advantage of the available CPU cores and execute tasks in parallel. By distributing tasks across multiple processes, you can reduce the overall processing time and improve the scalability of your code.\n",
    "\n",
    "The multiprocessing pool can also be useful for managing the resources used by your code. By limiting the number of worker processes in the pool, you can ensure that your code does not consume too much CPU or memory resources and does not cause your system to become unresponsive or crash. Additionally, the pool can be used to monitor the progress of your tasks and detect any errors or failures that may occur during their execution.\n",
    "\n",
    "</p>"
   ]
  },
  {
   "attachments": {},
   "cell_type": "markdown",
   "metadata": {},
   "source": [
    "<h3>Q5. How can we create a pool of worker processes in python using the multiprocessing module?</h3>"
   ]
  },
  {
   "cell_type": "code",
   "execution_count": 46,
   "metadata": {},
   "outputs": [
    {
     "name": "stdout",
     "output_type": "stream",
     "text": [
      "[1, 1, 1, 0, 1, 0, 1, 0, 1]\n"
     ]
    }
   ],
   "source": [
    "def modby2(num):\n",
    "    result = num%2\n",
    "    return result\n",
    "if __name__ == '__main__':\n",
    "    with multiprocessing.Pool(processes=6) as pool:\n",
    "        output = pool.map(modby2,[11,21,31,24,25,26,27,58,79])\n",
    "    print(output)\n"
   ]
  },
  {
   "attachments": {},
   "cell_type": "markdown",
   "metadata": {},
   "source": [
    "<h3>Q6. Write a python program to create 4 processes, each process should print a different number using the\n",
    "multiprocessing module in python.</h3>"
   ]
  },
  {
   "cell_type": "code",
   "execution_count": 40,
   "metadata": {},
   "outputs": [
    {
     "name": "stdout",
     "output_type": "stream",
     "text": [
      "Number :  0\n",
      "Number :  2\n",
      "Number :  1\n",
      "Number :  3\n"
     ]
    }
   ],
   "source": [
    "def print_number(num):\n",
    "    print('Number : ',num)\n",
    "\n",
    "if __name__=='__main__':\n",
    "    processes = []\n",
    "    for i in range(4):\n",
    "        p = multiprocessing.Process(target=print_number,args=(i,))\n",
    "        processes.append(p)\n",
    "        p.start()\n",
    "    for pr in processes:\n",
    "        pr.join()"
   ]
  },
  {
   "cell_type": "code",
   "execution_count": 44,
   "metadata": {},
   "outputs": [
    {
     "name": "stdout",
     "output_type": "stream",
     "text": [
      "Number :  0\n",
      "name of the current process <Process name='Process-96' parent=12480 started>\n",
      "Number : Number :  Number :  3 \n",
      "12\n",
      "\n",
      "name of the current process <Process name='Process-99' parent=12480 started>name of the current process <Process name='Process-98' parent=12480 started>name of the current process <Process name='Process-97' parent=12480 started>\n",
      "\n",
      "\n"
     ]
    }
   ],
   "source": [
    "def print_number(num):\n",
    "    print('Number : ',num)\n",
    "    print('name of the current process {}'.format(multiprocessing.current_process()))\n",
    "\n",
    "if __name__=='__main__':\n",
    "    processes = []\n",
    "    for i in range(4):\n",
    "        p = multiprocessing.Process(target=print_number,args=(i,))\n",
    "        processes.append(p)\n",
    "        p.start()\n",
    "    for pr in processes:\n",
    "        pr.join()"
   ]
  },
  {
   "cell_type": "code",
   "execution_count": 43,
   "metadata": {},
   "outputs": [
    {
     "name": "stdout",
     "output_type": "stream",
     "text": [
      "Number: 1\n",
      "Number: 4\n",
      "Number: 2\n",
      "Number: 3\n"
     ]
    }
   ],
   "source": [
    "import multiprocessing\n",
    "\n",
    "def print_number(num):\n",
    "    print(f\"Number: {num}\")\n",
    "\n",
    "if __name__ == \"__main__\":\n",
    "    # Create four processes\n",
    "    p1 = multiprocessing.Process(target=print_number, args=(1,))\n",
    "    p2 = multiprocessing.Process(target=print_number, args=(2,))\n",
    "    p3 = multiprocessing.Process(target=print_number, args=(3,))\n",
    "    p4 = multiprocessing.Process(target=print_number, args=(4,))\n",
    "\n",
    "    # Start the processes\n",
    "    p1.start()\n",
    "    p2.start()\n",
    "    p3.start()\n",
    "    p4.start()\n",
    "\n",
    "    # Wait for the processes to finish\n",
    "    p1.join()\n",
    "    p2.join()\n",
    "    p3.join()\n",
    "    p4.join()\n"
   ]
  }
 ],
 "metadata": {
  "kernelspec": {
   "display_name": "Python 3 (ipykernel)",
   "language": "python",
   "name": "python3"
  },
  "language_info": {
   "codemirror_mode": {
    "name": "ipython",
    "version": 3
   },
   "file_extension": ".py",
   "mimetype": "text/x-python",
   "name": "python",
   "nbconvert_exporter": "python",
   "pygments_lexer": "ipython3",
   "version": "3.10.4"
  },
  "orig_nbformat": 4
 },
 "nbformat": 4,
 "nbformat_minor": 2
}
