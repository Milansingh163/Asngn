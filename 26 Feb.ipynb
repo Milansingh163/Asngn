{
 "cells": [
  {
   "cell_type": "markdown",
   "id": "294aeb23",
   "metadata": {},
   "source": [
    "<h4>\n",
    "Q1. Is there any difference in the data type of variables list_ and array_list? If there is then write a code\n",
    "to print the data types of both the variables.\n",
    "</h4>"
   ]
  },
  {
   "cell_type": "code",
   "execution_count": 18,
   "id": "367be787",
   "metadata": {},
   "outputs": [],
   "source": [
    "import numpy as np\n",
    "list_ = [ '1','2','3','4','5' ]\n",
    "array_list = np.array(object = list_)"
   ]
  },
  {
   "cell_type": "markdown",
   "id": "76156fcc",
   "metadata": {},
   "source": [
    "A list is a built-in data type in Python that stores a collection of items, and it can store elements of different data types. It is implemented as a dynamic array, which means it can grow or shrink in size as needed.\n",
    "\n",
    "An array is a data structure that stores a fixed-size sequential collection of elements of the same type. It is not a built-in data type in Python, but it can be created using libraries such as NumPy or array."
   ]
  },
  {
   "cell_type": "code",
   "execution_count": 19,
   "id": "960ca978",
   "metadata": {},
   "outputs": [
    {
     "name": "stdout",
     "output_type": "stream",
     "text": [
      "<class 'list'>\n",
      "<class 'numpy.ndarray'>\n"
     ]
    }
   ],
   "source": [
    "print(type(list_))\n",
    "print(type(array_list))"
   ]
  },
  {
   "cell_type": "markdown",
   "id": "f6388e37",
   "metadata": {},
   "source": [
    "<h4>Q2. Write a code to print the data type of each and every element of both the variables list_ and\n",
    "arra_list.</h4>"
   ]
  },
  {
   "cell_type": "code",
   "execution_count": 20,
   "id": "1fd600f8",
   "metadata": {},
   "outputs": [
    {
     "name": "stdout",
     "output_type": "stream",
     "text": [
      "<class 'str'>\n",
      "<class 'str'>\n",
      "<class 'str'>\n",
      "<class 'str'>\n",
      "<class 'str'>\n"
     ]
    }
   ],
   "source": [
    "#  data type of elements of the list_\n",
    "for i in list_:\n",
    "    print(type(i))"
   ]
  },
  {
   "cell_type": "code",
   "execution_count": 21,
   "id": "73c2a4c3",
   "metadata": {},
   "outputs": [
    {
     "name": "stdout",
     "output_type": "stream",
     "text": [
      "<class 'numpy.str_'>\n",
      "<class 'numpy.str_'>\n",
      "<class 'numpy.str_'>\n",
      "<class 'numpy.str_'>\n",
      "<class 'numpy.str_'>\n"
     ]
    }
   ],
   "source": [
    "#  data type of elements of the array_list\n",
    "for i in array_list:\n",
    "    print(type(i))"
   ]
  },
  {
   "cell_type": "markdown",
   "id": "156d2b2c",
   "metadata": {},
   "source": [
    "<h4>Q3. Considering the following changes in the variable, array_list:\n",
    "array_list = np.array(object = list_, dtype = int)\n",
    "</h4>\n",
    "Will there be any difference in the data type of the elements present in both the variables, list_ and\n",
    "arra_list? If so then print the data types of each and every element present in both the variables, list_\n",
    "and arra_list."
   ]
  },
  {
   "cell_type": "code",
   "execution_count": 22,
   "id": "d348fd09",
   "metadata": {},
   "outputs": [
    {
     "name": "stdout",
     "output_type": "stream",
     "text": [
      "<class 'str'>\n",
      "<class 'str'>\n",
      "<class 'str'>\n",
      "<class 'str'>\n",
      "<class 'str'>\n",
      "<class 'numpy.int32'>\n",
      "<class 'numpy.int32'>\n",
      "<class 'numpy.int32'>\n",
      "<class 'numpy.int32'>\n",
      "<class 'numpy.int32'>\n"
     ]
    }
   ],
   "source": [
    "array_list = np.array(object = list_, dtype = int)\n",
    "#  data type of elements of the list_\n",
    "for i in list_:\n",
    "    print(type(i))\n",
    "\n",
    "#  data type of elements of the array_list\n",
    "for i in array_list:\n",
    "    print(type(i))"
   ]
  },
  {
   "cell_type": "markdown",
   "id": "9303a0a5",
   "metadata": {},
   "source": [
    "Consider the below code to answer further questions:\n",
    "import numpy as np\n",
    "num_list = [ [ 1 , 2 , 3 ] , [ 4 , 5 , 6 ] ]\n",
    "num_array = np.array(object = num_list)"
   ]
  },
  {
   "cell_type": "code",
   "execution_count": 23,
   "id": "d26fc2a9",
   "metadata": {},
   "outputs": [],
   "source": [
    "import numpy as np\n",
    "num_list = [ [ 1 , 2 , 3 ] , [ 4 , 5 , 6 ] ]\n",
    "num_array = np.array(object = num_list)"
   ]
  },
  {
   "cell_type": "markdown",
   "id": "a6151f56",
   "metadata": {},
   "source": [
    "<h4>Q4. Write a code to find the following characteristics of variable, num_array:</h4><br>\n",
    "(i) shape <br>\n",
    "(ii) size"
   ]
  },
  {
   "cell_type": "code",
   "execution_count": 24,
   "id": "2a38edcb",
   "metadata": {},
   "outputs": [
    {
     "name": "stdout",
     "output_type": "stream",
     "text": [
      "(2, 3)\n"
     ]
    }
   ],
   "source": [
    "print(num_array.shape)"
   ]
  },
  {
   "cell_type": "code",
   "execution_count": 25,
   "id": "f033191c",
   "metadata": {},
   "outputs": [
    {
     "name": "stdout",
     "output_type": "stream",
     "text": [
      "6\n"
     ]
    }
   ],
   "source": [
    "print(num_array.size)"
   ]
  },
  {
   "cell_type": "markdown",
   "id": "f3cb3f5d",
   "metadata": {},
   "source": [
    "<h4>Q5. Write a code to create numpy array of 3*3 matrix containing zeros only, using a numpy array\n",
    "creation function.\n",
    "[Hint: The size of the array will be 9 and the shape will be (3,3).]"
   ]
  },
  {
   "cell_type": "code",
   "execution_count": 10,
   "id": "fadd5257",
   "metadata": {},
   "outputs": [
    {
     "name": "stdout",
     "output_type": "stream",
     "text": [
      "[[0. 0. 0.]\n",
      " [0. 0. 0.]\n",
      " [0. 0. 0.]]\n",
      "Size of the matirix :  9\n",
      "Shape of the matirix :  (3, 3)\n"
     ]
    }
   ],
   "source": [
    "mat =  np.zeros((3,3))\n",
    "print(mat)\n",
    "print('Size of the matirix : ',mat.size)\n",
    "print('Shape of the matirix : ',mat.shape)"
   ]
  },
  {
   "cell_type": "markdown",
   "id": "ceb98c04",
   "metadata": {},
   "source": [
    "Q6. Create an identity matrix of shape (5,5) using numpy functions?\n",
    "[Hint: An identity matrix is a matrix containing 1 diagonally and other elements will be 0.]"
   ]
  },
  {
   "cell_type": "code",
   "execution_count": 14,
   "id": "a9883952",
   "metadata": {},
   "outputs": [
    {
     "name": "stdout",
     "output_type": "stream",
     "text": [
      "[[1 0 0 0 0]\n",
      " [0 1 0 0 0]\n",
      " [0 0 1 0 0]\n",
      " [0 0 0 1 0]\n",
      " [0 0 0 0 1]]\n"
     ]
    }
   ],
   "source": [
    "identity_matrix = np.identity(5, dtype=\"int\")\n",
    "print(identity_matrix)"
   ]
  },
  {
   "cell_type": "markdown",
   "id": "a11d9689",
   "metadata": {},
   "source": [
    "<h4>OR</h4>"
   ]
  },
  {
   "cell_type": "code",
   "execution_count": 17,
   "id": "fbad51ed",
   "metadata": {},
   "outputs": [
    {
     "name": "stdout",
     "output_type": "stream",
     "text": [
      "[[1. 0. 0. 0. 0.]\n",
      " [0. 1. 0. 0. 0.]\n",
      " [0. 0. 1. 0. 0.]\n",
      " [0. 0. 0. 1. 0.]\n",
      " [0. 0. 0. 0. 1.]]\n"
     ]
    }
   ],
   "source": [
    "identity_matrix = np.eye(5)\n",
    "\n",
    "print(identity_matrix)"
   ]
  },
  {
   "cell_type": "code",
   "execution_count": null,
   "id": "1d6238d3",
   "metadata": {},
   "outputs": [],
   "source": []
  }
 ],
 "metadata": {
  "kernelspec": {
   "display_name": "Python 3 (ipykernel)",
   "language": "python",
   "name": "python3"
  },
  "language_info": {
   "codemirror_mode": {
    "name": "ipython",
    "version": 3
   },
   "file_extension": ".py",
   "mimetype": "text/x-python",
   "name": "python",
   "nbconvert_exporter": "python",
   "pygments_lexer": "ipython3",
   "version": "3.9.13"
  }
 },
 "nbformat": 4,
 "nbformat_minor": 5
}
