{
 "cells": [
  {
   "cell_type": "markdown",
   "id": "6b9f5e87",
   "metadata": {},
   "source": [
    "<h3>Q1. Explain Class and Object with respect to Object-Oriented Programming. Give a suitable example. </h3>\n",
    "<br>\n",
    "Answer\n",
    "<br>\n",
    "A Class is a blueprint or template that defines the properties and methods of an object. It is a blueprint for creating objects (a particular data structure), providing initial values for state (member variables or attributes), and implementations of behavior (member functions or methods). For example, we could define a class called \"Person\" that has attributes such as \"name\", \"age\", and \"address\", and methods such as \"introduce\" and \"greet\".\n",
    "\n",
    "An Object is an instance of a Class. It is a specific realization of a class and has its own values for the attributes defined in the class. For example, we could have two objects of the \"Person\" class, \"John\" and \"Jane\", each with their own unique values for the attributes."
   ]
  },
  {
   "cell_type": "code",
   "execution_count": 2,
   "id": "8fb878af",
   "metadata": {},
   "outputs": [
    {
     "name": "stdout",
     "output_type": "stream",
     "text": [
      "Hi, my name is John\n",
      "Hello Jane, I'm John\n"
     ]
    }
   ],
   "source": [
    "class Person:\n",
    "    def __init__(self, name, age, address):\n",
    "        self.name = name\n",
    "        self.age = age\n",
    "        self.address = address\n",
    "    \n",
    "    def introduce(self):\n",
    "        return \"Hi, my name is \" + self.name\n",
    "    \n",
    "    def greet(self, other_person):\n",
    "        return \"Hello \" + other_person.name + \", I'm \" + self.name\n",
    "\n",
    "person1 = Person(\"John\", 32, \"123 Main St\")\n",
    "person2 = Person(\"Jane\", 28, \"456 Oak Ave\")\n",
    "\n",
    "print(person1.introduce()) \n",
    "print(person1.greet(person2)) \n"
   ]
  },
  {
   "cell_type": "markdown",
   "id": "14fbf735",
   "metadata": {},
   "source": [
    "<h3>Q2. Name the four pillars of OOPs.</h3>\n",
    "<br>\n",
    "Answer\n",
    "<br>\n",
    "-----------------\n",
    "<br>\n",
    "1. Abstraction: Abstraction refers to the process of hiding the implementation details from the user and exposing only the necessary information. It allows the user to focus on what the object does, rather than how it does it.\n",
    "<br>\n",
    "2. Encapsulation: Encapsulation is the mechanism of wrapping data and functions within a single unit or object, and hiding the implementation details from the outside world. It ensures that the internal representation of an object is protected from the outside code, preventing unauthorized access.\n",
    "<br>\n",
    "3. Inheritance: Inheritance is the mechanism of acquiring the properties and behaviors of an existing class, called the superclass, by another class, called the subclass. This allows for creating new classes that are related to existing classes, and reuse and extend their functionality.\n",
    "<br>\n",
    "4. Polymorphism: Polymorphism is the ability of an object to take on many forms. In OOP, polymorphism allows objects of different classes to be treated as objects of the same class. This allows for creating objects that can be used interchangeably in the same code, even if they have different underlying implementations"
   ]
  },
  {
   "cell_type": "markdown",
   "id": "4fc1abb9",
   "metadata": {},
   "source": [
    "<h3>Q3. Explain why the __init__() function is used. Give a suitable example.</h3>\n",
    "Answer\n",
    "<br>\n",
    "The \"__init__\" function is a special method in Python classes that is called when an object of the class is created. It is commonly referred to as the constructor of the class. The purpose of the \"__init__\" function is to initialize the attributes of an object when it is created, so that each object has its own set of attributes with unique values.\n",
    "<br>\n",
    "The \"__init__\" method takes the self argument, which refers to the instance of the object being created, and it can take additional arguments as needed. Within the \"__init__\" method, you can set the initial values of the attributes and perform any other necessary initialization steps."
   ]
  },
  {
   "cell_type": "code",
   "execution_count": 5,
   "id": "88192d96",
   "metadata": {},
   "outputs": [
    {
     "name": "stdout",
     "output_type": "stream",
     "text": [
      "John\n",
      "32\n",
      "123 Main St\n"
     ]
    }
   ],
   "source": [
    "class Person:\n",
    "    def __init__(self, name, age, address):\n",
    "        self.name = name\n",
    "        self.age = age\n",
    "        self.address = address\n",
    "\n",
    "person = Person(\"John\", 32, \"123 Main St\")\n",
    "\n",
    "print(person.name) \n",
    "print(person.age) \n",
    "print(person.address) \n"
   ]
  },
  {
   "cell_type": "markdown",
   "id": "6b4a5ec5",
   "metadata": {},
   "source": [
    "<h3>Q4. Why self is used in OOPs?</h3>\n",
    "<br>\n",
    "Answer\n",
    "<br>\n",
    "In Object-Oriented Programming (OOP), the self keyword is used as a reference to the instance of the object that is calling the method. In other words, self refers to the object on which a method is being invoked. It is a way to access the attributes and methods of an object from within the object's own methods.\n",
    "\n",
    "When you define a method in a class, the first argument of the method must always be self. This argument provides a reference to the object that is calling the method, and it allows the method to access and modify the object's attributes."
   ]
  },
  {
   "cell_type": "code",
   "execution_count": 6,
   "id": "5791d531",
   "metadata": {},
   "outputs": [
    {
     "name": "stdout",
     "output_type": "stream",
     "text": [
      "Hi, my name is John\n"
     ]
    }
   ],
   "source": [
    "class Person:\n",
    "    def __init__(self, name, age):\n",
    "        self.name = name\n",
    "        self.age = age\n",
    "    \n",
    "    def introduce(self):\n",
    "        return \"Hi, my name is \" + self.name\n",
    "\n",
    "person = Person(\"John\", 32)\n",
    "print(person.introduce()) "
   ]
  },
  {
   "cell_type": "markdown",
   "id": "d6139826",
   "metadata": {},
   "source": [
    "<h3>Q5. What is inheritance? Give an example for each type of inheritance.\n",
    "Note:</h3>\n",
    "<br>\n",
    "Answer\n",
    "<br>\n",
    "Inheritance is a mechanism in Object-Oriented Programming (OOP) that allows a new class to inherit the properties and behaviors of an existing class. The existing class is called the parent class or the superclass, and the new class is called the child class or the subclass. Inheritance allows for creating new classes that are related to existing classes, and reuse and extend their functionality.\n",
    "<br>\n",
    "1. Single inheritance: Single inheritance occurs when a subclass inherits from a single superclass. This type of inheritance allows for creating a hierarchy of classes, where each subclass inherits from its parent class and can add its own unique attributes and methods.\n",
    "<br>\n",
    "2. Multiple inheritance: Multiple inheritance occurs when a subclass inherits from multiple superclasses. This type of inheritance allows for creating classes that inherit the properties and behaviors of multiple parent classes.\n",
    "<br>\n",
    "3. Multi-level inheritance: Multi-level inheritance occurs when a subclass inherits from a parent class, which in turn inherits from another parent class. This type of inheritance allows for creating a hierarchy of classes, where each subclass inherits from its parent class and can add its own unique attributes and methods.\n",
    "<br>\n"
   ]
  },
  {
   "cell_type": "code",
   "execution_count": 7,
   "id": "59b21256",
   "metadata": {},
   "outputs": [
    {
     "name": "stdout",
     "output_type": "stream",
     "text": [
      "Bark!\n"
     ]
    }
   ],
   "source": [
    "class Animal:\n",
    "    def __init__(self, name):\n",
    "        self.name = name\n",
    "    \n",
    "    def make_sound(self):\n",
    "        return \"Sound made by the animal\"\n",
    "\n",
    "class Dog(Animal):\n",
    "    def __init__(self, name, breed):\n",
    "        Animal.__init__(self, name)\n",
    "        self.breed = breed\n",
    "    \n",
    "    def make_sound(self):\n",
    "        return \"Bark!\"\n",
    "\n",
    "dog = Dog(\"Max\", \"Labrador\")\n",
    "print(dog.make_sound()) # Output: \"Bark!\"\n"
   ]
  },
  {
   "cell_type": "code",
   "execution_count": 8,
   "id": "6cb995cc",
   "metadata": {},
   "outputs": [
    {
     "name": "stdout",
     "output_type": "stream",
     "text": [
      "Engine started with power 640 HP\n",
      "Driving the car\n"
     ]
    }
   ],
   "source": [
    "class Engine:\n",
    "    def __init__(self, power):\n",
    "        self.power = power\n",
    "    \n",
    "    def start(self):\n",
    "        return \"Engine started with power \" + str(self.power) + \" HP\"\n",
    "\n",
    "class Car:\n",
    "    def __init__(self, make, model):\n",
    "        self.make = make\n",
    "        self.model = model\n",
    "    \n",
    "    def drive(self):\n",
    "        return \"Driving the car\"\n",
    "\n",
    "class SportsCar(Engine, Car):\n",
    "    def __init__(self, make, model, power):\n",
    "        Engine.__init__(self, power)\n",
    "        Car.__init__(self, make, model)\n",
    "\n",
    "sports_car = SportsCar(\"Lamborghini\", \"Huracan\", 640)\n",
    "print(sports_car.start()) # Output: \"Engine started with power 640 HP\"\n",
    "print(sports_car.drive()) # Output: \"Driving the car\"\n"
   ]
  },
  {
   "cell_type": "code",
   "execution_count": 9,
   "id": "a412f26e",
   "metadata": {},
   "outputs": [
    {
     "name": "stdout",
     "output_type": "stream",
     "text": [
      "Bark!\n"
     ]
    }
   ],
   "source": [
    "class Animal:\n",
    "    def __init__(self, name):\n",
    "        self.name = name\n",
    "    \n",
    "    def make_sound(self):\n",
    "        return \"Sound made by the animal\"\n",
    "\n",
    "class Mammal(Animal):\n",
    "    def __init__(self, name, species):\n",
    "        Animal.__init__(self, name)\n",
    "        self.species = species\n",
    "    \n",
    "    def make_sound(self):\n",
    "        return \"Sound made by the mammal\"\n",
    "\n",
    "class Dog(Mammal):\n",
    "    def __init__(self, name, breed):\n",
    "        Mammal.__init__(self, name, \"Canis lupus\")\n",
    "        self.breed = breed\n",
    "    \n",
    "    def make_sound(self):\n",
    "        return \"Bark!\"\n",
    "\n",
    "dog = Dog(\"Max\", \"Labrador\")\n",
    "print(dog.make_sound()) # Output: \"Bark!\"\n"
   ]
  },
  {
   "cell_type": "code",
   "execution_count": null,
   "id": "e28414cc",
   "metadata": {},
   "outputs": [],
   "source": []
  }
 ],
 "metadata": {
  "kernelspec": {
   "display_name": "Python 3 (ipykernel)",
   "language": "python",
   "name": "python3"
  },
  "language_info": {
   "codemirror_mode": {
    "name": "ipython",
    "version": 3
   },
   "file_extension": ".py",
   "mimetype": "text/x-python",
   "name": "python",
   "nbconvert_exporter": "python",
   "pygments_lexer": "ipython3",
   "version": "3.9.13"
  }
 },
 "nbformat": 4,
 "nbformat_minor": 5
}
