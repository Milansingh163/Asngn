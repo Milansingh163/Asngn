{
 "cells": [
  {
   "cell_type": "markdown",
   "id": "5fd26a43",
   "metadata": {},
   "source": [
    "<h3>Q1. Create a function which will take a list as an argument and return the product of all the numbers\n",
    "after creating a flat list.\n",
    "Use the below-given list as an argument for your function. </h3>\n",
    "list1 = [1,2,3,4, [44,55,66, True], False, (34,56,78,89,34), {1,2,3,3,2,1}, {1:34, \"key2\": [55, 67, 78, 89], 4: (45,\n",
    "22, 61, 34)}, [56, 'data science'], 'Machine Learning']\n",
    "Note: you must extract numeric keys and values of the dictionary also."
   ]
  },
  {
   "cell_type": "code",
   "execution_count": 60,
   "id": "b8f777a1",
   "metadata": {},
   "outputs": [
    {
     "name": "stdout",
     "output_type": "stream",
     "text": [
      "4134711838987085478833841242112000\n"
     ]
    }
   ],
   "source": [
    "def manmade(a):\n",
    "    flat_list=[]\n",
    "    product=1\n",
    "    for i in a:\n",
    "        if type(i)==int or type(i)==float:\n",
    "            flat_list.append(i)\n",
    "        elif type(i) in (list,tuple,set):\n",
    "            flat_list.extend(i)\n",
    "        elif type(i)== str and i.isnumeric():\n",
    "            flat_list.append(i)\n",
    "        elif type(i)==dict:\n",
    "            for j in i.keys():\n",
    "                flat_list.append(j)\n",
    "            for k in i.values():\n",
    "                if type(k) in (int,float):\n",
    "                    flat_list.append(k)\n",
    "                elif type(k) in (list,tuple,set):\n",
    "                    flat_list.extend(k)\n",
    "    for i in flat_list:\n",
    "        if type(i) in (int,float):\n",
    "            product *= i\n",
    "    return product\n",
    "list1 = [1,2,3,4, [44,55,66, True], False, (34,56,78,89,34), {1,2,3,3,2,1}, {1:34, \"key2\": [55, 67, 78, 89], 4: (45,\n",
    "22, 61, 34)}, [56, 'data science'], 'Machine Learning']\n",
    "print(manmade(list1))\n",
    "        "
   ]
  },
  {
   "cell_type": "markdown",
   "id": "d87c477d",
   "metadata": {},
   "source": [
    "<h3>Q2. Write a python program for encrypting a message sent to you by your friend. The logic of encryption\n",
    "should be such that, for a the output should be z. For b, the output should be y. For c, the output should\n",
    "be x respectively. Also, the whitespace should be replaced with a dollar sign. Keep the punctuation\n",
    "marks unchanged. </h3>\n",
    "Input Sentence: I want to become a Data Scientist.\n",
    "Encrypt the above input sentence using the program you just created.\n",
    "Note: Convert the given input sentence into lowercase before encrypting. The final output should be\n",
    "lowercase."
   ]
  },
  {
   "cell_type": "code",
   "execution_count": 92,
   "id": "5c5c45e5",
   "metadata": {},
   "outputs": [
    {
     "name": "stdout",
     "output_type": "stream",
     "text": [
      "enter the message : I want to become a Data Scientist.\n",
      "r$dzmg$gl$yvxlnv$z$wzgz$hxrvmgrhg.\n"
     ]
    }
   ],
   "source": [
    "def encryption():\n",
    "    a = input('enter the message : ').lower()\n",
    "    encrypted_message = ''\n",
    "    for char in a:\n",
    "        if char==' ':\n",
    "            encrypted_message+='$'\n",
    "        elif char.isalpha():\n",
    "            encrypted_message += chr(122 - ord(char) + 97)\n",
    "        else:\n",
    "            encrypted_message += char\n",
    "    print(encrypted_message)\n",
    "encryption()"
   ]
  }
 ],
 "metadata": {
  "kernelspec": {
   "display_name": "Python 3 (ipykernel)",
   "language": "python",
   "name": "python3"
  },
  "language_info": {
   "codemirror_mode": {
    "name": "ipython",
    "version": 3
   },
   "file_extension": ".py",
   "mimetype": "text/x-python",
   "name": "python",
   "nbconvert_exporter": "python",
   "pygments_lexer": "ipython3",
   "version": "3.9.13"
  }
 },
 "nbformat": 4,
 "nbformat_minor": 5
}
