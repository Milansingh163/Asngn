{
 "cells": [
  {
   "cell_type": "markdown",
   "id": "c4cb8ec5",
   "metadata": {},
   "source": [
    "<h3>1. what is multithreading in python? why is it used? Name the module used to handle threads in python </h3>\n",
    "<p>\n",
    "Multithreading in Python is a technique that allows a single program to have multiple threads of execution running concurrently, allowing for parallelism and improved performance. Each thread runs independently of the other threads within the same process, sharing the same resources such as memory and CPU time.\n",
    "</p>\n",
    "<p>\n",
    "Multithreading is used to improve the performance of programs that involve tasks that can be executed independently of each other. For example, in a web server, each incoming request can be handled by a separate thread, allowing multiple requests to be processed simultaneously.\n",
    "</p>\n",
    "<p>\n",
    "The module used to handle threads in Python is called \"threading\". It provides a simple way to create and manage threads in Python. With the threading module, you can create new threads, start them, stop them, and synchronize their execution with other threads. The threading module also provides primitives for inter-thread communication and synchronization, such as locks and events, which can be used to ensure that multiple threads do not access shared resources at the same time\n",
    "</p>"
   ]
  },
  {
   "cell_type": "markdown",
   "id": "dc848dc9",
   "metadata": {},
   "source": [
    "<h3>2. why threading module used? write the use of the following functions : <br>\n",
    "     activeCount() <br>\n",
    "     currentThread()<br>\n",
    "     enumerate()</h3>\n",
    "     \n",
    "<p>\n",
    "The threading module in Python is used to create and manage threads of execution. It provides a high-level interface for working with threads, allowing you to create new threads, start them, stop them, and synchronize their execution with other threads.\n",
    "Here are the uses of some of the functions in the threading module:\n",
    "</p>\n",
    "<p>\n",
    "\n",
    "\n",
    "1. activeCount(): This function returns the number of currently active threads in the program. This can be useful for monitoring the overall health of a program that uses threads, or for debugging purposes to ensure that threads are starting and stopping correctly.\n",
    "</p>\n",
    "<p>\n",
    "2. currentThread(): This function returns a reference to the current thread object, which can be used to obtain information about the current thread, such as its name, ID, and other attributes. This can be useful for debugging or for coordinating the execution of multiple threads.\n",
    "</p>\n",
    "\n",
    "<p>\n",
    "    \n",
    "3. enumerate(): This function returns a list of all thread objects that are currently active in the program. This can be useful for monitoring the overall health of a program that uses threads, or for debugging purposes to ensure that all threads are starting and stopping correctly. The list returned by this function includes the current thread object, as well as any other active thread objects in the program.\n",
    "</p>"
   ]
  },
  {
   "cell_type": "code",
   "execution_count": null,
   "id": "f543e553",
   "metadata": {},
   "outputs": [],
   "source": [
    "# active count\n",
    "\n",
    "import threading\n",
    "import time\n",
    "def examples():\n",
    "    print('function call')\n",
    "    time.sleep(2)\n",
    "\n",
    "for i in range(4):\n",
    "    t5 = threading.Thread(target=examples)\n",
    "    t5.start()\n",
    "    print('number of active thread', threading.activeCount())\n",
    "    print('current working thread', threading.current_thread())"
   ]
  },
  {
   "cell_type": "code",
   "execution_count": null,
   "id": "983714da",
   "metadata": {},
   "outputs": [
    {
     "name": "stdout",
     "output_type": "stream",
     "text": [
      "Worker thread worker-0 started.\n",
      "Worker thread worker-0 finished.\n",
      "Worker thread worker-1 started.\n",
      "Worker thread worker-1 finished.\n",
      "Worker thread worker-2 started.\n",
      "Worker thread worker-2 finished.\n",
      "Total active threads: 6\n"
     ]
    }
   ],
   "source": [
    "import threading\n",
    "\n",
    "def my_worker():\n",
    "    print(f'Worker thread {threading.currentThread().name} started.')\n",
    "    # Do some work here\n",
    "    print(f'Worker thread {threading.currentThread().name} finished.')\n",
    "\n",
    "# Create multiple threads\n",
    "threads = []\n",
    "for i in range(3):\n",
    "    t6 = threading.Thread(target=my_worker, name=f'worker-{i}')\n",
    "    threads.append(t6)\n",
    "    t6.start()\n",
    "\n",
    "# Get a list of all active threads\n",
    "all_threads = threading.enumerate()\n",
    "print(f'Total active threads: {len(all_threads)}')\n",
    "\n",
    "# Iterate over all active threads and join them\n",
    "for t in all_threads:\n",
    "    if t is not threading.currentThread():\n",
    "        t.join()\n"
   ]
  },
  {
   "cell_type": "markdown",
   "id": "274540d3",
   "metadata": {},
   "source": [
    "<h3> 3. Explain the following functions </h3>\n",
    "1. run()\n",
    "2. start()\n",
    "3. join()\n",
    "4. isAlive()\n",
    "\n",
    "<p>run(): This function is called by the start() method of the Thread class to start the thread's activity. You should override this function in your own Thread subclass to define the thread's behavior.</p>\n",
    "<p>start(): This function starts the thread's activity by calling the run() method. It creates a new thread of execution and starts it.</p>\n",
    "<p>join(): This function blocks the calling thread until the thread whose join() method is called has terminated. It is used to wait for a thread to finish before proceeding with further execution.</p>\n",
    "<p>isAlive(): This function returns a Boolean value that indicates whether the thread is currently executing or not. It is useful when you want to check the status of a thread and perform some action based on its state.</p>"
   ]
  },
  {
   "cell_type": "code",
   "execution_count": 2,
   "id": "4c32f042",
   "metadata": {},
   "outputs": [
    {
     "name": "stdout",
     "output_type": "stream",
     "text": [
      "Thread is running...---------------------------------------------\n",
      "Worker thread is running...\n",
      "\n",
      "-------------------------------------\n",
      "Worker thread is running...\n",
      "Worker thread has finished.\n",
      "----------------------------\n",
      "Worker thread is running...\n",
      "Worker thread has finished.\n"
     ]
    }
   ],
   "source": [
    "import threading\n",
    "\n",
    "class MyThread(threading.Thread):\n",
    "    def run(self):\n",
    "        print('Thread is running...')\n",
    "\n",
    "# Create a thread and start it\n",
    "t1 = MyThread()\n",
    "t1.start()\n",
    "print('---------------------------------------------',end='\\n')\n",
    "\n",
    "\n",
    "def my_worker():\n",
    "    print('Worker thread is running...')\n",
    "\n",
    "# Create a thread and start it\n",
    "t2 = threading.Thread(target=my_worker)\n",
    "t2.start()\n",
    "print('-------------------------------------')\n",
    "\n",
    "def my_worker():\n",
    "    print('Worker thread is running...')\n",
    "\n",
    "# Create a thread and start it\n",
    "t3 = threading.Thread(target=my_worker)\n",
    "t3.start()\n",
    "\n",
    "# Wait for the thread to finish\n",
    "t3.join()\n",
    "\n",
    "print('Worker thread has finished.')\n",
    "\n",
    "print('----------------------------')\n",
    "\n",
    "def my_worker():\n",
    "    print('Worker thread is running...')\n",
    "\n",
    "# Create a thread and start it\n",
    "t4 = threading.Thread(target=my_worker)\n",
    "t4.start()\n",
    "\n",
    "# Wait for the thread to finish\n",
    "while t4.is_alive():\n",
    "    print('Waiting for worker thread to finish...')\n",
    "    time.sleep(1)\n",
    "\n",
    "print('Worker thread has finished.')\n",
    "\n"
   ]
  },
  {
   "cell_type": "markdown",
   "id": "81e61cda",
   "metadata": {},
   "source": [
    "<h3>4. Write a python program to create two threads. Thread one must print the list of squares and thread two must print the list of cubes </h3>"
   ]
  },
  {
   "cell_type": "code",
   "execution_count": 1,
   "id": "a9a644a2",
   "metadata": {},
   "outputs": [
    {
     "name": "stdout",
     "output_type": "stream",
     "text": [
      "1 cubed is 1\n",
      "2 cubed is 8\n",
      "3 cubed is 27\n",
      "4 cubed is 64\n",
      "5 cubed is 125\n",
      "6 cubed is 216\n",
      "7 cubed is 343\n",
      "8 cubed is 512\n",
      "9 cubed is 729\n",
      "10 cubed is 1000\n",
      "1 squared is 1\n",
      "2 squared is 4\n",
      "3 squared is 9\n",
      "4 squared is 16\n",
      "5 squared is 25\n",
      "6 squared is 36\n",
      "7 squared is 49\n",
      "8 squared is 64\n",
      "9 squared is 81\n",
      "10 squared is 100\n"
     ]
    }
   ],
   "source": [
    "import threading\n",
    "\n",
    "# Define a function to print a list of squares\n",
    "def print_squares():\n",
    "    for i in range(1, 11):\n",
    "        print(f\"{i} squared is {i*i}\")\n",
    "\n",
    "# Define a function to print a list of cubes\n",
    "def print_cubes():\n",
    "    for i in range(1, 11):\n",
    "        print(f\"{i} cubed is {i*i*i}\")\n",
    "\n",
    "# Create two threads, one for each function\n",
    "t1 = threading.Thread(target=print_squares)\n",
    "t2 = threading.Thread(target=print_cubes)\n",
    "\n",
    "# Start the threads\n",
    "t2.start()\n",
    "t1.start()\n",
    "\n",
    "# Wait for the threads to finish before exiting the program\n",
    "t1.join()\n",
    "t2.join()\n"
   ]
  },
  {
   "cell_type": "markdown",
   "id": "5f2e6d7b",
   "metadata": {},
   "source": [
    "<h3>5. State advantages and disadvantages of multithreading </h3>\n",
    "<p>\n",
    "Multithreading is a powerful technique that has many advantages, but it also has some disadvantages that need to be considered. Here are some of the advantages and disadvantages of multithreading:\n",
    "</p>\n",
    "<p>\n",
    "Advantages:\n",
    "\n",
    "1. Increased performance: Multithreading allows different parts of a program to run simultaneously, which can lead to significant improvements in performance on multi-core or multi-CPU systems.\n",
    "2. Responsiveness: Multithreading can improve the responsiveness of an application by allowing it to continue processing user input or other events while it performs time-consuming tasks in the background.\n",
    "3. Simplified programming: Multithreading can make programming easier by breaking down complex tasks into smaller, more manageable parts that can be executed independently.\n",
    "4. Resource sharing: Multithreading allows multiple threads to share resources, such as memory or I/O devices, without the need for explicit synchronization. </p>\n",
    "<p>Disadvantages:\n",
    "\n",
    "1. Complexity: Multithreading can make programming more complex, as it requires careful management of shared resources and can introduce subtle bugs related to synchronization or race conditions.\n",
    "2. Overhead: Multithreading introduces overhead in terms of memory usage and context switching, which can reduce performance and increase memory consumption.\n",
    "3. Synchronization: Multithreading requires explicit synchronization to ensure that shared resources are accessed correctly, which can be difficult to get right and can introduce additional overhead.\n",
    "4. Debugging: Multithreaded programs can be difficult to debug, as problems can be intermittent or related to race conditions that are difficult to reproduce.</p>"
   ]
  },
  {
   "cell_type": "markdown",
   "id": "cfd1f5a0",
   "metadata": {},
   "source": [
    "<h3>6. Explain deadlocks and race conditions. </h3>\n",
    "<p>\n",
    "1. Deadlocks: A deadlock occurs when two or more threads are blocked, waiting for each other to release resources that they need to proceed. This can happen when two threads try to acquire the same resources in a different order, leading to a situation where each thread is waiting for the other to release a resource. Deadlocks can result in a program that is frozen and unresponsive.<br>\n",
    "For example, consider a scenario where two threads, T1 and T2, both need access to two resources, R1 and R2. If T1 acquires R1 and T2 acquires R2, but then both try to acquire the other resource, a deadlock can occur if neither thread can release the resource they have in order to acquire the other resource.\n",
    "</p>\n",
    "<p>\n",
    "2. Race conditions: A race condition occurs when two or more threads access a shared resource simultaneously, and the result depends on the order in which the threads execute. This can lead to unexpected and inconsistent behavior, as the output of the program can change depending on the timing of thread execution.<br>\n",
    "For example, consider a scenario where two threads, T1 and T2, both need to increment a shared variable, X. If T1 reads the value of X, then T2 reads the same value before T1 has a chance to update X, T2 will increment the old value of X, leading to an incorrect result.\n",
    "</p>\n",
    "<p>\n",
    "\n",
    "To avoid deadlocks and race conditions, it's important to carefully manage shared resources and to use synchronization techniques, such as locks or semaphores, to ensure that only one thread at a time can access a shared resource. Proper synchronization can prevent threads from interfering with each other and ensure that the program behaves correctly in all situations.\n",
    "\n",
    "</p>\n"
   ]
  },
  {
   "cell_type": "code",
   "execution_count": null,
   "id": "ce503de1",
   "metadata": {},
   "outputs": [],
   "source": []
  }
 ],
 "metadata": {
  "kernelspec": {
   "display_name": "Python 3 (ipykernel)",
   "language": "python",
   "name": "python3"
  },
  "language_info": {
   "codemirror_mode": {
    "name": "ipython",
    "version": 3
   },
   "file_extension": ".py",
   "mimetype": "text/x-python",
   "name": "python",
   "nbconvert_exporter": "python",
   "pygments_lexer": "ipython3",
   "version": "3.9.13"
  }
 },
 "nbformat": 4,
 "nbformat_minor": 5
}
