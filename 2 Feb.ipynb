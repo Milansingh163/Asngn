{
 "cells": [
  {
   "attachments": {},
   "cell_type": "markdown",
   "metadata": {},
   "source": [
    "<h3>Q1. What are the characteristics of the tuples? Is tuple immutable?</h3>\n",
    "<br>\n",
    "Tuples are a type of data structure in Python that are very similar to lists, but with one key difference: tuples are immutable, meaning that once they are created, their contents cannot be changed. This makes tuples ideal for situations where you need to store data that will remain unchanged throughout the course of your program. \n",
    "\n",
    "A tuple can be created in Python by enclosing data in parentheses () or by using the tuple() function. A tuple can contain any number of data types, including strings, integers, floats, and other tuples. In addition, a tuple can have any length, from a single item to a thousand items or more. \n",
    "\n",
    "Unlike lists, tuples are immutable, meaning that once they are created, their contents cannot be changed. This makes them ideal for situations where you need to store data that will remain unchanged throughout the course of your program. Additionally, since tuples are immutable, they are slightly more efficient than lists, making them a good choice when efficiency is a priority.\n"
   ]
  },
  {
   "attachments": {},
   "cell_type": "markdown",
   "metadata": {},
   "source": [
    "<h3>Q2 What are the two tuple methods in python? Give an example of each method. Give a reason why\n",
    "tuples have only two in-built methods as compared to Lists. </h3>\n",
    "<br>\n",
    "Tuples in Python have two in-built methods: \n",
    "\n",
    "1. ```index()``` - This method is used to return the index of a particular item in the tuple. For example: \n",
    "\n",
    "```\n",
    "tuple = (\"Apple\", \"Mango\", \"Banana\") \n",
    "index_value = tuple.index(\"Mango\") \n",
    "print(index_value) \n",
    "```\n",
    "\n",
    "The output of the above code will be:\n",
    "```\n",
    "1\n",
    "```\n",
    "\n",
    "2. ```count()``` - This method is used to count the number of times an item appears in the tuple. For example: \n",
    "\n",
    "```\n",
    "tuple = (\"Apple\", \"Mango\", \"Banana\", \"Apple\") \n",
    "count_value = tuple.count(\"Apple\") \n",
    "print(count_value) \n",
    "```\n",
    "\n",
    "The output of the above code will be:\n",
    "```\n",
    "2\n",
    "```\n",
    "\n",
    "The reason why tuples have only two in-built methods as compared to Lists is because tuples are immutable. Tuples are immutable, meaning they cannot be changed. Having fewer methods allows tuples to remain in their original state and is less likely to be altered or corrupted.\n",
    "\n"
   ]
  },
  {
   "attachments": {},
   "cell_type": "markdown",
   "metadata": {},
   "source": [
    "\n",
    "<h3>Q3 Which collection datatypes in python do not allow duplicate items? Write a code using a set to remove\n",
    "duplicates from the given list.</h3>\n",
    "\n",
    "ANSWER : Set in python does not allow duplicate items."
   ]
  },
  {
   "cell_type": "code",
   "execution_count": 3,
   "metadata": {},
   "outputs": [
    {
     "name": "stdout",
     "output_type": "stream",
     "text": [
      "{1, 2, 3, 4}\n"
     ]
    }
   ],
   "source": [
    "List = [1, 1, 1, 2, 1, 3, 1, 4, 2, 1, 2, 2, 2, 3, 2, 4, 3, 1, 3, 2, 3, 3, 3, 4, 4, 1, 4, 2, 4, 3, 4, 4]\n",
    "print(set(List))"
   ]
  },
  {
   "attachments": {},
   "cell_type": "markdown",
   "metadata": {},
   "source": [
    "<h3>Q4. Explain the difference between the union() and update() methods for a set. Give an example of\n",
    "each method.</h3>"
   ]
  },
  {
   "attachments": {},
   "cell_type": "markdown",
   "metadata": {},
   "source": [
    "The `union()` and `update()` methods are used to combine two sets. The `union()` method creates a new set that contains all the elements from both the sets, while the `update()` method adds all the elements from one set to the other set. \n",
    "\n",
    "For example, if we have two sets, `set1` and `set2`, we can use the `union()` method to create a new set, `set3`, with the elements of both `set1` and `set2`:\n",
    "\n",
    "```python\n",
    "set3 = set1.union(set2)\n",
    "```\n",
    "\n",
    "We can also use the `update()` method to add all the elements of `set2` to `set1`:\n",
    "\n",
    "```python\n",
    "set1.update(set2)\n",
    "```\n",
    "\n",
    "After using the `update()` method, `set1` will contain all the elements of both `set1` and `set2`."
   ]
  },
  {
   "cell_type": "code",
   "execution_count": 6,
   "metadata": {},
   "outputs": [
    {
     "name": "stdout",
     "output_type": "stream",
     "text": [
      "{1, 2, 3, 4, 5, 6}\n",
      "{3, 4, 5, 6, 7, 8}\n"
     ]
    }
   ],
   "source": [
    "set1 = {1,2,3,4}\n",
    "set2 = {3,4,5,6}\n",
    "set3 = {5,6,7,8}\n",
    "\n",
    "x = set1.union(set2)\n",
    "print(x)\n",
    "set3.update(set2)\n",
    "print(set3)"
   ]
  },
  {
   "attachments": {},
   "cell_type": "markdown",
   "metadata": {},
   "source": [
    "<h3>Q5. What is a dictionary? Give an example. Also, state whether a dictionary is ordered or unordered.</h3>\n",
    "<br>\n",
    "A dictionary is a data structure that stores key-value pairs. It is an unordered collection of items and is usually used when it is necessary to look up a value based on a key. For example, a phone book is a type of dictionary where people can look up a person's phone number based on their name. Dictionaries are unordered, meaning that the order of the elements does not matter."
   ]
  },
  {
   "attachments": {},
   "cell_type": "markdown",
   "metadata": {},
   "source": [
    "<h3>Q6. Can we create a nested dictionary? If so, please give an example by creating a simple one-level\n",
    "nested dictionary.</h3>\n",
    "<br>\n",
    "creating a nested dictionary is possible."
   ]
  },
  {
   "cell_type": "code",
   "execution_count": 7,
   "metadata": {},
   "outputs": [
    {
     "name": "stdout",
     "output_type": "stream",
     "text": [
      "{'key1': 'value1', 'key2': {'key2.1': 'value2.1', 'key2.2': 'value2.2'}}\n"
     ]
    }
   ],
   "source": [
    "d1 = {\n",
    "    'key1': 'value1',\n",
    "    'key2': {\n",
    "        'key2.1': 'value2.1',\n",
    "        'key2.2': 'value2.2'\n",
    "    }\n",
    "}\n",
    "print(d1)"
   ]
  },
  {
   "attachments": {},
   "cell_type": "markdown",
   "metadata": {},
   "source": [
    "<h3>Q7. Using setdefault() method, create key named topics in the given dictionary and also add the value of\n",
    "the key as this list ['Python', 'Machine Learning’, 'Deep Learning']\n",
    "dict1 = {'language' : 'Python', 'course': 'Data Science Masters'}</h3>\n",
    "<br>"
   ]
  },
  {
   "cell_type": "code",
   "execution_count": 9,
   "metadata": {},
   "outputs": [
    {
     "name": "stdout",
     "output_type": "stream",
     "text": [
      "{'language': 'Python', 'course': 'Data Science Masters'}\n",
      "{'language': 'Python', 'course': 'Data Science Masters', 'topics': ['Python', 'Machine Learning', 'Deep Learning']}\n"
     ]
    }
   ],
   "source": [
    "dict1 = {'language' : 'Python', 'course': 'Data Science Masters'}\n",
    "print(dict1)\n",
    "dict1.setdefault('topics',['Python', 'Machine Learning', 'Deep Learning'])\n",
    "print(dict1)"
   ]
  },
  {
   "attachments": {},
   "cell_type": "markdown",
   "metadata": {},
   "source": [
    "<h3>Q8. What are the three view objects in dictionaries? Use the three in-built methods in python to display\n",
    "these three view objects for the given dictionary.\n",
    "dict1 = {'Sport': 'Cricket' , 'Teams': ['India', 'Australia', 'England', 'South Africa', 'Sri Lanka', 'New Zealand']}</h3>\n",
    "<br>\n",
    "The three view objects in dictionaries are keys, values, and items. We can use the three in-built methods in python to display these three view objects for the given dictionary."
   ]
  },
  {
   "cell_type": "code",
   "execution_count": 11,
   "metadata": {},
   "outputs": [
    {
     "name": "stdout",
     "output_type": "stream",
     "text": [
      "dict_keys(['Sport', 'Teams'])\n",
      "dict_values(['Cricket', ['India', 'Australia', 'England', 'South Africa', 'Sri Lanka', 'New Zealand']])\n",
      "dict_items([('Sport', 'Cricket'), ('Teams', ['India', 'Australia', 'England', 'South Africa', 'Sri Lanka', 'New Zealand'])])\n"
     ]
    }
   ],
   "source": [
    "dict1 = {'Sport': 'Cricket' , 'Teams': ['India', 'Australia', 'England', 'South Africa', 'Sri Lanka', 'New Zealand']}\n",
    "print(dict1.keys())\n",
    "print(dict1.values())\n",
    "print(dict1.items())"
   ]
  },
  {
   "cell_type": "code",
   "execution_count": null,
   "metadata": {},
   "outputs": [],
   "source": []
  }
 ],
 "metadata": {
  "kernelspec": {
   "display_name": "Python 3",
   "language": "python",
   "name": "python3"
  },
  "language_info": {
   "codemirror_mode": {
    "name": "ipython",
    "version": 3
   },
   "file_extension": ".py",
   "mimetype": "text/x-python",
   "name": "python",
   "nbconvert_exporter": "python",
   "pygments_lexer": "ipython3",
   "version": "3.10.4"
  },
  "orig_nbformat": 4,
  "vscode": {
   "interpreter": {
    "hash": "3ad933181bd8a04b432d3370b9dc3b0662ad032c4dfaa4e4f1596c548f763858"
   }
  }
 },
 "nbformat": 4,
 "nbformat_minor": 2
}
