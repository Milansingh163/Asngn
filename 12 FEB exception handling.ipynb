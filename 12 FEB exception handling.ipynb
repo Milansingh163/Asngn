{
 "cells": [
  {
   "cell_type": "markdown",
   "id": "0cfb74d4",
   "metadata": {},
   "source": [
    "<h3>Q1. What is an exception in python? Write the difference between Exceptions and Syntax errors.</h3>\n",
    "<p>\n",
    "In Python, an exception is an error that occurs during the execution of a program. It indicates that something unexpected happened, and the program could not continue to execute normally.\n",
    "</p>\n",
    "Exceptions can be raised by built-in functions, by user-defined functions, or by the Python interpreter itself. Some common types of exceptions include NameError, TypeError, ValueError, and ZeroDivisionError.\n",
    "<p>\n",
    "On the other hand, a syntax error is a type of error that occurs when Python detects a violation of its syntax rules. Syntax errors occur when there is an error in the way the code is written, such as a missing colon, a misspelled keyword, or an unclosed string.\n",
    "</p>\n",
    "\n",
    "<p>\n",
    "The key difference between exceptions and syntax errors is that syntax errors are detected by the Python interpreter before the program is executed, whereas exceptions are raised during program execution. Syntax errors must be fixed before the program can be run, while exceptions can be handled by the program to prevent it from crashing. Additionally, syntax errors are always caused by a mistake in the code itself, while exceptions can be caused by a variety of factors, including user input and external factors such as network failures or file system errors.\n",
    "\n",
    "\n",
    "\n",
    "\n",
    "\n",
    "</p>"
   ]
  },
  {
   "cell_type": "markdown",
   "id": "34ac01d4",
   "metadata": {},
   "source": [
    "<h3>Q2. What happens when when exception is not handled? Explain with an example.</h3>\n",
    "<p>\n",
    "    When an exception is not handled in a program, it results in a runtime error, which can cause the program to terminate prematurely. The error message that is displayed will provide information about the type of exception that occurred and where in the code it occurred.\n",
    "</p>"
   ]
  },
  {
   "cell_type": "code",
   "execution_count": 2,
   "id": "735b0e00",
   "metadata": {},
   "outputs": [
    {
     "ename": "ZeroDivisionError",
     "evalue": "division by zero",
     "output_type": "error",
     "traceback": [
      "\u001b[1;31m---------------------------------------------------------------------------\u001b[0m",
      "\u001b[1;31mZeroDivisionError\u001b[0m                         Traceback (most recent call last)",
      "\u001b[1;32m~\\AppData\\Local\\Temp\\ipykernel_29004\\1841167229.py\u001b[0m in \u001b[0;36m<module>\u001b[1;34m\u001b[0m\n\u001b[0;32m      5\u001b[0m \u001b[0mb\u001b[0m \u001b[1;33m=\u001b[0m \u001b[1;36m0\u001b[0m\u001b[1;33m\u001b[0m\u001b[1;33m\u001b[0m\u001b[0m\n\u001b[0;32m      6\u001b[0m \u001b[1;33m\u001b[0m\u001b[0m\n\u001b[1;32m----> 7\u001b[1;33m \u001b[0mresult\u001b[0m \u001b[1;33m=\u001b[0m \u001b[0mdivide\u001b[0m\u001b[1;33m(\u001b[0m\u001b[0ma\u001b[0m\u001b[1;33m,\u001b[0m \u001b[0mb\u001b[0m\u001b[1;33m)\u001b[0m\u001b[1;33m\u001b[0m\u001b[1;33m\u001b[0m\u001b[0m\n\u001b[0m\u001b[0;32m      8\u001b[0m \u001b[0mprint\u001b[0m\u001b[1;33m(\u001b[0m\u001b[0mresult\u001b[0m\u001b[1;33m)\u001b[0m\u001b[1;33m\u001b[0m\u001b[1;33m\u001b[0m\u001b[0m\n",
      "\u001b[1;32m~\\AppData\\Local\\Temp\\ipykernel_29004\\1841167229.py\u001b[0m in \u001b[0;36mdivide\u001b[1;34m(x, y)\u001b[0m\n\u001b[0;32m      1\u001b[0m \u001b[1;32mdef\u001b[0m \u001b[0mdivide\u001b[0m\u001b[1;33m(\u001b[0m\u001b[0mx\u001b[0m\u001b[1;33m,\u001b[0m \u001b[0my\u001b[0m\u001b[1;33m)\u001b[0m\u001b[1;33m:\u001b[0m\u001b[1;33m\u001b[0m\u001b[1;33m\u001b[0m\u001b[0m\n\u001b[1;32m----> 2\u001b[1;33m     \u001b[1;32mreturn\u001b[0m \u001b[0mx\u001b[0m \u001b[1;33m/\u001b[0m \u001b[0my\u001b[0m\u001b[1;33m\u001b[0m\u001b[1;33m\u001b[0m\u001b[0m\n\u001b[0m\u001b[0;32m      3\u001b[0m \u001b[1;33m\u001b[0m\u001b[0m\n\u001b[0;32m      4\u001b[0m \u001b[0ma\u001b[0m \u001b[1;33m=\u001b[0m \u001b[1;36m10\u001b[0m\u001b[1;33m\u001b[0m\u001b[1;33m\u001b[0m\u001b[0m\n\u001b[0;32m      5\u001b[0m \u001b[0mb\u001b[0m \u001b[1;33m=\u001b[0m \u001b[1;36m0\u001b[0m\u001b[1;33m\u001b[0m\u001b[1;33m\u001b[0m\u001b[0m\n",
      "\u001b[1;31mZeroDivisionError\u001b[0m: division by zero"
     ]
    }
   ],
   "source": [
    "def divide(x, y):\n",
    "    return x / y\n",
    "\n",
    "a = 10\n",
    "b = 0\n",
    "\n",
    "result = divide(a, b)\n",
    "print(result)\n"
   ]
  },
  {
   "cell_type": "markdown",
   "id": "562b5d16",
   "metadata": {},
   "source": [
    "<p>In this example, the divide function takes two arguments and returns the result of dividing the first argument by the second argument. However, if the second argument is zero, a ZeroDivisionError will be raised.</p>\n",
    "<p>To avoid this, we can use a try-except block to handle the exception:</p>"
   ]
  },
  {
   "cell_type": "code",
   "execution_count": 3,
   "id": "9b71bd84",
   "metadata": {},
   "outputs": [
    {
     "name": "stdout",
     "output_type": "stream",
     "text": [
      "Error: division by zero\n"
     ]
    }
   ],
   "source": [
    "def divide(x, y):\n",
    "    try:\n",
    "        return x / y\n",
    "    except ZeroDivisionError:\n",
    "        print(\"Error: division by zero\")\n",
    "        return None\n",
    "\n",
    "a = 10\n",
    "b = 0\n",
    "\n",
    "result = divide(a, b)\n",
    "if result is not None:\n",
    "    print(result)\n"
   ]
  },
  {
   "cell_type": "markdown",
   "id": "b1117bfa",
   "metadata": {},
   "source": [
    "<h3>Q3. Which Python statements are used to catch and handle exception ? Explain with an example</h3>\n",
    "<p>In Python, we can use the try and except statements to catch and handle exceptions</p>\n",
    "<p>The code within the try block is executed, and if an exception is raised, it is caught by the corresponding except block. The ExceptionType is the type of exception that we want to catch and handle. If the type of exception that is raised matches the type specified in the except block, the code within that block is executed.</p>"
   ]
  },
  {
   "cell_type": "code",
   "execution_count": 4,
   "id": "e43671cd",
   "metadata": {},
   "outputs": [
    {
     "name": "stdout",
     "output_type": "stream",
     "text": [
      "Error: division by zero\n"
     ]
    }
   ],
   "source": [
    "def divide(x, y):\n",
    "    try:\n",
    "        result = x / y\n",
    "        return result\n",
    "    except ZeroDivisionError:\n",
    "        print(\"Error: division by zero\")\n",
    "        return None\n",
    "\n",
    "a = 10\n",
    "b = 0\n",
    "\n",
    "result = divide(a, b)\n",
    "if result is not None:\n",
    "    print(result)\n"
   ]
  },
  {
   "cell_type": "markdown",
   "id": "a16ae1b0",
   "metadata": {},
   "source": [
    "<h3>Q4. Explain with an example:</h3><br>\n",
    "<h5>a. try and else</h5>\n",
    "<h5>a. finally</h5>\n",
    "<h5>a. raise</h5>\n",
    "<p>In Python, the try and else blocks are used together to handle exceptions in a program. The try block is used to enclose the code that might raise an exception, and the else block is used to specify the code that should be executed if no exception is raised.</p>"
   ]
  },
  {
   "cell_type": "code",
   "execution_count": 6,
   "id": "fdecffcf",
   "metadata": {},
   "outputs": [
    {
     "name": "stdout",
     "output_type": "stream",
     "text": [
      "Enter a number: 10\n",
      "Enter another number: 0\n",
      "Cannot divide by zero.\n"
     ]
    }
   ],
   "source": [
    "try:\n",
    "    num1 = int(input(\"Enter a number: \"))\n",
    "    num2 = int(input(\"Enter another number: \"))\n",
    "    result = num1 / num2\n",
    "except ValueError:\n",
    "    print(\"Please enter a valid integer.\")\n",
    "except ZeroDivisionError:\n",
    "    print(\"Cannot divide by zero.\")\n",
    "else:\n",
    "    print(\"The result is:\", result)\n"
   ]
  },
  {
   "cell_type": "markdown",
   "id": "3bf0decd",
   "metadata": {},
   "source": [
    "<p>In this example, the user is asked to enter two integers, which are then divided in the try block. If the user enters a non-integer value, a ValueError is raised and caught by the first except block. If the user enters 0 as the second input, a ZeroDivisionError is raised and caught by the second except block. If neither of these exceptions is raised, the code within the else block is executed, and the result is printed to the console.\n",
    "</p>\n",
    "<p>In this case, if the user enters valid integers as input, the code within the else block is executed, and the result is printed to the console. However, if an exception is raised, the code within the corresponding except block is executed instead of the code in the else block.</p>"
   ]
  },
  {
   "cell_type": "markdown",
   "id": "a543df7c",
   "metadata": {},
   "source": [
    "<h3>Q5. What are custom exceptions in python? why do we need custom exception ? Explain with an example.</h3>\n",
    "<p>\n",
    "In Python, we can define our own exceptions, which are called custom exceptions. These exceptions are derived from the built-in Exception class and can be raised and caught like any other exception.\n",
    "\n",
    "We need custom exceptions in Python to provide a more meaningful description of an error to the user. By defining custom exceptions, we can create more specific error messages and make it easier for users to understand what went wrong and how to fix it.\n",
    "</p>"
   ]
  },
  {
   "cell_type": "code",
   "execution_count": 11,
   "id": "c866ae1b",
   "metadata": {},
   "outputs": [
    {
     "name": "stdout",
     "output_type": "stream",
     "text": [
      "milansinghgmail.com does not contain @\n"
     ]
    }
   ],
   "source": [
    "class Invalid_email(Exception):\n",
    "    def __init__(self,email):\n",
    "        self.email=email\n",
    "        self.message = '{} does not contain @'.format(self.email)\n",
    "\n",
    "def send_email(to,subject,body):\n",
    "    if '@' not in to:\n",
    "        raise Invalid_email(to)\n",
    "    else:\n",
    "        print('mail sent')\n",
    "        \n",
    "try:\n",
    "    send_email('milansinghgmail.com','data','i am there')\n",
    "except Invalid_email as e:\n",
    "    print(e.message)\n",
    "    "
   ]
  },
  {
   "cell_type": "markdown",
   "id": "3c7cacc1",
   "metadata": {},
   "source": [
    "<h3>Q6. Create a custom exception class. Use this class to handle exception.</h3>"
   ]
  },
  {
   "cell_type": "code",
   "execution_count": 12,
   "id": "152fba47",
   "metadata": {},
   "outputs": [
    {
     "name": "stdout",
     "output_type": "stream",
     "text": [
      "2.0\n",
      "-4 is a negative number\n"
     ]
    }
   ],
   "source": [
    "class NegativeNumberError(Exception):\n",
    "    def __init__(self, value):\n",
    "        self.value = value\n",
    "\n",
    "    def __str__(self):\n",
    "        return f\"{self.value} is a negative number\"\n",
    "\n",
    "def square_root(number):\n",
    "    if number < 0:\n",
    "        raise NegativeNumberError(number)\n",
    "    return number ** 0.5\n",
    "\n",
    "try:\n",
    "    print(square_root(4))\n",
    "    print(square_root(-4))\n",
    "except NegativeNumberError as e:\n",
    "    print(e)\n"
   ]
  },
  {
   "cell_type": "markdown",
   "id": "eca27575",
   "metadata": {},
   "source": [
    "<p>In this example, we define a custom exception class called NegativeNumberError. The class inherits from the Exception class and has an __init__ method that takes the negative number as an argument and a __str__ method that returns the error message.\n",
    "\n",
    "We define a square_root function that takes a number as an argument and calculates its square root. If the number is negative, the function raises the NegativeNumberError with the negative number as an argument.\n",
    "\n",
    "In the try block, we call the square_root function twice with the arguments 4 and -4. The first call returns the square root of 4 and prints 2.0 to the console. The second call raises the NegativeNumberError, which is caught by the except block. The error message \"-4 is a negative number\" is printed to the console.</p>"
   ]
  },
  {
   "cell_type": "code",
   "execution_count": null,
   "id": "2774d6b8",
   "metadata": {},
   "outputs": [],
   "source": []
  }
 ],
 "metadata": {
  "kernelspec": {
   "display_name": "Python 3 (ipykernel)",
   "language": "python",
   "name": "python3"
  },
  "language_info": {
   "codemirror_mode": {
    "name": "ipython",
    "version": 3
   },
   "file_extension": ".py",
   "mimetype": "text/x-python",
   "name": "python",
   "nbconvert_exporter": "python",
   "pygments_lexer": "ipython3",
   "version": "3.9.13"
  }
 },
 "nbformat": 4,
 "nbformat_minor": 5
}
