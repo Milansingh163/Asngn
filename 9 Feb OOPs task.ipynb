{
 "cells": [
  {
   "cell_type": "markdown",
   "id": "422dd918",
   "metadata": {},
   "source": [
    "<h3>Q1, Create a vehicle class with an init method having instance variables as name_of_vehicle, max_speed\n",
    "and average_of_vehicle.</h3>"
   ]
  },
  {
   "cell_type": "code",
   "execution_count": 13,
   "id": "f2741cf8",
   "metadata": {},
   "outputs": [
    {
     "name": "stdout",
     "output_type": "stream",
     "text": [
      "Maruti\n",
      "120\n",
      "60\n"
     ]
    }
   ],
   "source": [
    "\n",
    "\n",
    "class Vehicle():\n",
    "    def __init__(self,name_of_vehicle,max_speed,average_of_vehicle):\n",
    "        self.name_of_vehicle = name_of_vehicle\n",
    "        self.max_speed=max_speed\n",
    "        self.average_of_vehicle=average_of_vehicle\n",
    "        \n",
    "maruti = Vehicle('Maruti',120,60)\n",
    "print(maruti.name_of_vehicle)\n",
    "print(maruti.max_speed)\n",
    "print(maruti.average_of_vehicle)"
   ]
  },
  {
   "cell_type": "markdown",
   "id": "db83dfce",
   "metadata": {},
   "source": [
    "<h3>Q2. Create a child class car from the vehicle class created in Question 1, which will inherit the vehicle class.\n",
    "Create a method named seating_capacity which takes capacity as an argument and returns the name of\n",
    "the vehicle and its seating capacity. </h3>"
   ]
  },
  {
   "cell_type": "code",
   "execution_count": 6,
   "id": "e088d950",
   "metadata": {},
   "outputs": [
    {
     "data": {
      "text/plain": [
       "'Honda has 10 with average speed of 200 and has top speed 100 km/h'"
      ]
     },
     "execution_count": 6,
     "metadata": {},
     "output_type": "execute_result"
    }
   ],
   "source": [
    "\n",
    "class Car(Vehicle):\n",
    "    def seating_capacity(self,capacity):\n",
    "        self.capacity = capacity\n",
    "        return '{} has {} with average speed of {} and has top speed {} km/h'.format(self.name_of_vehicle,self.capacity,self.max_speed,self.average_of_vehicle)\n",
    "\n",
    "        \n",
    "my_car = Car('Honda',200,100)\n",
    "my_car.seating_capacity(10)"
   ]
  },
  {
   "cell_type": "markdown",
   "id": "df904810",
   "metadata": {},
   "source": [
    "<h3>Q3. What is multiple inheritance? Write a python code to demonstrate multiple inheritance.</h3>\n",
    "<p>\n",
    "Multiple inheritance is a feature of object-oriented programming that allows a class to inherit attributes and\n",
    "methods from more than one parent class. In other words, \n",
    "a class can have multiple base classes, and it can inherit all the methods and attributes from all of them.\n",
    "</p>"
   ]
  },
  {
   "cell_type": "code",
   "execution_count": 14,
   "id": "eedd57ff",
   "metadata": {},
   "outputs": [
    {
     "name": "stdout",
     "output_type": "stream",
     "text": [
      "This is method 1 from Base 1\n",
      "This is method 2 from Base 2\n",
      "This is method 3 from Derived class\n"
     ]
    }
   ],
   "source": [
    "class Base1:\n",
    "    def method1(self):\n",
    "        print(\"This is method 1 from Base 1\")\n",
    "\n",
    "class Base2:\n",
    "    def method2(self):\n",
    "        print(\"This is method 2 from Base 2\")\n",
    "\n",
    "class Derived(Base1, Base2):\n",
    "    def method3(self):\n",
    "        print(\"This is method 3 from Derived class\")\n",
    "\n",
    "# Creating an object of the Derived class\n",
    "d = Derived()\n",
    "\n",
    "# Calling methods from the Base1 class\n",
    "d.method1()\n",
    "\n",
    "# Calling methods from the Base2 class\n",
    "d.method2()\n",
    "\n",
    "# Calling method from the Derived class\n",
    "d.method3()\n"
   ]
  },
  {
   "cell_type": "markdown",
   "id": "ceaf1e8c",
   "metadata": {},
   "source": [
    "<h3>Q4. What are getter and setter in python? Create a class and create a getter and a setter method in this class </h3>\n",
    "<p>\n",
    "In Python, getters and setters are methods used to access and modify class attributes, respectively. \n",
    "They provide a way to ensure that the attributes of a class are accessed and modified in a controlled manner.\n",
    "\n",
    "Getters are methods that are used to get the value of an attribute. They are usually named with the prefix \"get_\", \n",
    "followed by the name of the attribute. Setters are methods that are used to set the value of an attribute. \n",
    "They are usually named with the prefix \"set_\", followed by the name of the attribute.\n",
    "</p>"
   ]
  },
  {
   "cell_type": "code",
   "execution_count": 15,
   "id": "773324a0",
   "metadata": {},
   "outputs": [
    {
     "name": "stdout",
     "output_type": "stream",
     "text": [
      "Mohit\n",
      "Sohit\n",
      "25\n",
      "30\n"
     ]
    }
   ],
   "source": [
    "class Person:\n",
    "    def __init__(self, name, age):\n",
    "        self.__name = name\n",
    "        self.__age = age\n",
    "\n",
    "    def get_name(self):\n",
    "        return self.__name\n",
    "\n",
    "    def set_name(self, name):\n",
    "        self.__name = name\n",
    "\n",
    "    def get_age(self):\n",
    "        return self.__age\n",
    "\n",
    "    def set_age(self, age):\n",
    "        if age < 0:\n",
    "            raise ValueError(\"Age cannot be negative\")\n",
    "        self.__age = age\n",
    "\n",
    "# Creating a person object\n",
    "person = Person(\"Mohit\", 25)\n",
    "\n",
    "# Getting the person's name\n",
    "name = person.get_name()\n",
    "print(name)  # Output: Alice\n",
    "\n",
    "# Setting the person's name\n",
    "person.set_name(\"Sohit\")\n",
    "name = person.get_name()\n",
    "print(name)  # Output: Bob\n",
    "\n",
    "# Getting the person's age\n",
    "age = person.get_age()\n",
    "print(age)  # Output: 25\n",
    "\n",
    "# Setting the person's age\n",
    "person.set_age(30)\n",
    "age = person.get_age()\n",
    "print(age)  # Output: 30"
   ]
  },
  {
   "cell_type": "markdown",
   "id": "3e64712f",
   "metadata": {},
   "source": [
    "<h3>Q5.What is method overriding in python? Write a python code to demonstrate method overriding.\n",
    "</h3>\n",
    "<p>\n",
    "Method overriding is a feature in object-oriented programming that allows a \n",
    "subclass to provide a different implementation of a method that is already defined in its superclass. \n",
    "When a method is overridden, the subclass provides a new implementation of the method that replaces the implementation \n",
    "in the superclass.\n",
    "</p>"
   ]
  },
  {
   "cell_type": "code",
   "execution_count": 16,
   "id": "1ce9fba8",
   "metadata": {},
   "outputs": [
    {
     "name": "stdout",
     "output_type": "stream",
     "text": [
      "The animal makes a sound\n",
      "The cat meows\n",
      "The dog barks\n"
     ]
    }
   ],
   "source": [
    "class Animal:\n",
    "    def make_sound(self):\n",
    "        print(\"The animal makes a sound\")\n",
    "\n",
    "class Cat(Animal):\n",
    "    def make_sound(self):\n",
    "        print(\"The cat meows\")\n",
    "\n",
    "class Dog(Animal):\n",
    "    def make_sound(self):\n",
    "        print(\"The dog barks\")\n",
    "\n",
    "# Creating objects of the Animal, Cat, and Dog classes\n",
    "animal = Animal()\n",
    "cat = Cat()\n",
    "dog = Dog()\n",
    "\n",
    "# Calling the make_sound method on each object\n",
    "animal.make_sound()  # Output: The animal makes a sound\n",
    "cat.make_sound()  # Output: The cat meows\n",
    "dog.make_sound()  # Output: The dog barks\n"
   ]
  },
  {
   "cell_type": "code",
   "execution_count": null,
   "id": "220231eb",
   "metadata": {},
   "outputs": [],
   "source": []
  }
 ],
 "metadata": {
  "kernelspec": {
   "display_name": "Python 3 (ipykernel)",
   "language": "python",
   "name": "python3"
  },
  "language_info": {
   "codemirror_mode": {
    "name": "ipython",
    "version": 3
   },
   "file_extension": ".py",
   "mimetype": "text/x-python",
   "name": "python",
   "nbconvert_exporter": "python",
   "pygments_lexer": "ipython3",
   "version": "3.9.13"
  }
 },
 "nbformat": 4,
 "nbformat_minor": 5
}
