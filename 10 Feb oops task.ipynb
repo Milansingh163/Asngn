{
 "cells": [
  {
   "cell_type": "markdown",
   "id": "72ab2d65",
   "metadata": {},
   "source": [
    "<h3>Q1. Which function is used to open a file? What are the different modes of opening a file? Explain each mode\n",
    "of file opening.</h3>\n",
    "<p>\n",
    " In Python, the open() function is used to open a file. The open() function returns a file object that can be used to read, write, and modify the contents of a file.\n",
    "\n",
    "The open() function takes two arguments: the first argument is the filename, and the second argument is the mode in which the file should be opened. The different modes of file opening are as follows:\n",
    "\n",
    "'r' - Read mode: This mode is used to open a file for reading. The file pointer is positioned at the beginning of the file. If the file doesn't exist, it will raise a FileNotFoundError error.\n",
    "\n",
    "'w' - Write mode: This mode is used to open a file for writing. If the file already exists, it will truncate the file to zero length. If the file does not exist, it will create a new file.\n",
    "\n",
    "'a' - Append mode: This mode is used to open a file for writing, but the file pointer is positioned at the end of the file. If the file does not exist, it will create a new file.\n",
    "\n",
    "'x' - Exclusive creation mode: This mode is used to open a file for exclusive creation. If the file already exists, it will raise a FileExistsError error.\n",
    "\n",
    "'b' - Binary mode: This mode is used to open a file in binary mode, which is used for non-text files like image and audio files. This mode should be used in combination with any of the above modes by adding 'b' to the mode string.\n",
    "\n",
    "'t' - Text mode: This mode is used to open a file in text mode, which is used for text files. This mode is the default mode, and it can be used in combination with any of the above modes by adding 't' to the mode string.\n",
    "\n",
    "'U' - Universal newline mode(depricated)\n",
    "\n",
    "To open a file for both reading and writing, use the '+' character. For example, 'r+' will open a file for both reading and writing. Similarly, 'w+', 'a+', and 'x+' can be used to open a file for both reading and writing with the corresponding mode.\n",
    "</p>"
   ]
  },
  {
   "cell_type": "markdown",
   "id": "d9cba00c",
   "metadata": {},
   "source": [
    "<h3>Q2. Why close() function is used? Why is it important to close a file? </h3>\n",
    "\n",
    "<p>\n",
    "The close() function is used to close an open file in Python. It is important to close a file after you have finished working with it because it:\n",
    "\n",
    "Frees up system resources: When you open a file in your program, the operating system assigns resources to keep track of the file, including memory and CPU time. If you don't close the file, these resources will remain allocated to the file until the program terminates, even if the file is no longer needed. This can cause your program to run out of resources, slow down or crash.\n",
    "\n",
    "Ensures data integrity: Closing a file ensures that any pending changes are written to the file before it is closed. If you don't close the file, some data may remain in memory and not be written to the file. This can cause data loss or corruption.\n",
    "\n",
    "Allows other programs to access the file: When you open a file, it is locked for exclusive use by your program. If you don't close the file, other programs will not be able to access or modify it until your program releases the lock.\n",
    "\n",
    "In addition to these reasons, it is also considered good practice to close files when you are finished with them, as it is a good programming habit to release resources as soon as they are no longer needed.\n",
    "\n",
    "To close a file in Python, you simply need to call the close() method on the file object that you created when you opened the file. For example, if you opened a file called \"example.txt\" using the open() function, you would close the file like this:\n",
    "</p>"
   ]
  },
  {
   "cell_type": "code",
   "execution_count": 6,
   "id": "9710e207",
   "metadata": {},
   "outputs": [],
   "source": [
    "# need to create a example.txt file\n",
    "file = open(\"example.txt\", \"w\")\n",
    "# Do some work with the file\n",
    "file.close()\n"
   ]
  },
  {
   "cell_type": "markdown",
   "id": "b1cb2a8e",
   "metadata": {},
   "source": [
    "<h3>Q3. Write a python program to create a text file. Write ‘I want to become a Data Scientist’ in that file. Then\n",
    "close the file. Open this file and read the content of the file.</h3>\n"
   ]
  },
  {
   "cell_type": "code",
   "execution_count": 10,
   "id": "c256c09e",
   "metadata": {},
   "outputs": [
    {
     "name": "stdout",
     "output_type": "stream",
     "text": [
      "I want to become a Data Scientist\n",
      "True\n"
     ]
    }
   ],
   "source": [
    "# write file\n",
    "file1 = open('filehandling.txt','w')\n",
    "file1.write('I want to become a Data Scientist')\n",
    "file1.close()\n",
    "# read file\n",
    "file_read = open('filehandling.txt','r')\n",
    "print(file_read.read())\n",
    "file_read.close()\n",
    "# checking if file is closed or not\n",
    "print(file_read.closed)"
   ]
  },
  {
   "cell_type": "markdown",
   "id": "b24ed0ad",
   "metadata": {},
   "source": [
    "<h3>Q4. Explain the following with python code: read(), readline() and readlines().</h3>\n",
    "<p>\n",
    "read(): The read() method reads the entire contents of the file as a string. It takes an optional argument specifying the maximum number of bytes to read, but if no argument is provided, it reads the entire file.\n",
    "</p>"
   ]
  },
  {
   "cell_type": "code",
   "execution_count": 12,
   "id": "bd8f0053",
   "metadata": {},
   "outputs": [
    {
     "name": "stdout",
     "output_type": "stream",
     "text": [
      "hi how are you\n",
      "are you there\n",
      "up above the sky\n",
      "you shine\n"
     ]
    }
   ],
   "source": [
    "# Open the file for reading\n",
    "file = open(\"example.txt\", \"r\")\n",
    "\n",
    "# Read the entire file\n",
    "contents = file.read()\n",
    "\n",
    "# Close the file\n",
    "file.close()\n",
    "\n",
    "# Print the contents\n",
    "print(contents)\n"
   ]
  },
  {
   "cell_type": "markdown",
   "id": "ee899f24",
   "metadata": {},
   "source": [
    "<p>readline(): The readline() method reads a single line from the file and returns it as a string. If called multiple times, it will read subsequent lines.</p>"
   ]
  },
  {
   "cell_type": "code",
   "execution_count": 13,
   "id": "448f16fa",
   "metadata": {},
   "outputs": [
    {
     "name": "stdout",
     "output_type": "stream",
     "text": [
      "hi how are you\n",
      "\n",
      "are you there\n",
      "\n"
     ]
    }
   ],
   "source": [
    "# Open the file for reading\n",
    "file = open(\"example.txt\", \"r\")\n",
    "\n",
    "# Read the first line of the file\n",
    "line1 = file.readline()\n",
    "\n",
    "# Read the second line of the file\n",
    "line2 = file.readline()\n",
    "\n",
    "# Close the file\n",
    "file.close()\n",
    "\n",
    "# Print the lines\n",
    "print(line1)\n",
    "print(line2)"
   ]
  },
  {
   "cell_type": "markdown",
   "id": "da559b43",
   "metadata": {},
   "source": [
    "<p>\n",
    "    readlines(): The readlines() method reads all the lines of the file and returns them as a list of strings, where each string represents a line. Here's an example:\n",
    "</p>"
   ]
  },
  {
   "cell_type": "code",
   "execution_count": 14,
   "id": "60634704",
   "metadata": {},
   "outputs": [
    {
     "name": "stdout",
     "output_type": "stream",
     "text": [
      "hi how are you\n",
      "\n",
      "are you there\n",
      "\n",
      "up above the sky\n",
      "\n",
      "you shine\n"
     ]
    }
   ],
   "source": [
    "# Open the file for reading\n",
    "file = open(\"example.txt\", \"r\")\n",
    "\n",
    "# Read all the lines of the file\n",
    "lines = file.readlines()\n",
    "\n",
    "# Close the file\n",
    "file.close()\n",
    "\n",
    "# Print the lines\n",
    "for line in lines:\n",
    "    print(line)\n"
   ]
  },
  {
   "cell_type": "markdown",
   "id": "909c02ab",
   "metadata": {},
   "source": [
    "<h3>Q5. Explain why with statement is used with open(). What is the advantage of using with statement and\n",
    "open() together?\n",
    "</h3>\n",
    "<p>\n",
    "    The with statement in Python is used to wrap the execution of a block of code with methods defined by a context manager. A context manager is an object that defines the methods __enter__() and __exit__() which are called at the beginning and end of the block of code, respectively. The purpose of using the with statement is to ensure that the context manager's __exit__() method is always called, even if an exception is raised during the execution of the code block.\n",
    "\n",
    "The open() function in Python is used to open a file and return a file object. The file object can then be used to read from or write to the file. When opening a file, it is important to close the file after it has been used to avoid resource leaks.\n",
    "\n",
    "The advantage of using with open() is that it automatically takes care of closing the file for you when you are done with it. This is because the file object returned by open() is also a context manager, and its __exit__() method automatically closes the file. This eliminates the need to manually call __file.close()__ at the end of the block of code.\n",
    "</p>"
   ]
  },
  {
   "cell_type": "code",
   "execution_count": 15,
   "id": "62e000d6",
   "metadata": {},
   "outputs": [
    {
     "name": "stdout",
     "output_type": "stream",
     "text": [
      "hi how are you\n",
      "are you there\n",
      "up above the sky\n",
      "you shine\n"
     ]
    }
   ],
   "source": [
    "with open('example.txt', 'r') as file:\n",
    "    contents = file.read()\n",
    "    print(contents)"
   ]
  },
  {
   "cell_type": "markdown",
   "id": "e2a37001",
   "metadata": {},
   "source": [
    "<h3>Q6. Explain the write() and writelines() functions. Give a suitable example. </h3>\n",
    "<p>\n",
    "The write() function is used to write a single string of data to a file. It takes a string as its argument and writes it to the file. If the file already exists, the data is appended to the end of the file. If the file doesn't exist, a new file is created with the given name and the data is written to it\n",
    "</p>"
   ]
  },
  {
   "cell_type": "code",
   "execution_count": 16,
   "id": "c6c0865f",
   "metadata": {},
   "outputs": [],
   "source": [
    "# open a file for writing\n",
    "file = open(\"example2.txt\", \"w\")\n",
    "\n",
    "# write a string to the file\n",
    "file.write(\"Hello, World!\\n\")\n",
    "\n",
    "# close the file\n",
    "file.close()"
   ]
  },
  {
   "cell_type": "markdown",
   "id": "bbf76a68",
   "metadata": {},
   "source": [
    "<p>The writelines() function is used to write a list of strings to a file. It takes a list of strings as its argument and writes each string to the file, one after the other.</p>"
   ]
  },
  {
   "cell_type": "code",
   "execution_count": 17,
   "id": "babae583",
   "metadata": {},
   "outputs": [],
   "source": [
    "# open a file for writing\n",
    "file = open(\"example3.txt\", \"w\")\n",
    "\n",
    "# write a list of strings to the file\n",
    "lines = [\"Line 1\\n\", \"Line 2\\n\", \"Line 3\\n\"]\n",
    "file.writelines(lines)\n",
    "\n",
    "# close the file\n",
    "file.close()"
   ]
  },
  {
   "cell_type": "code",
   "execution_count": null,
   "id": "8e02a2af",
   "metadata": {},
   "outputs": [],
   "source": []
  }
 ],
 "metadata": {
  "kernelspec": {
   "display_name": "Python 3 (ipykernel)",
   "language": "python",
   "name": "python3"
  },
  "language_info": {
   "codemirror_mode": {
    "name": "ipython",
    "version": 3
   },
   "file_extension": ".py",
   "mimetype": "text/x-python",
   "name": "python",
   "nbconvert_exporter": "python",
   "pygments_lexer": "ipython3",
   "version": "3.9.13"
  }
 },
 "nbformat": 4,
 "nbformat_minor": 5
}
