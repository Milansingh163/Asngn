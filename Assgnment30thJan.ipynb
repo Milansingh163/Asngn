{
 "cells": [
  {
   "cell_type": "markdown",
   "id": "a7392265-f529-4589-8206-054792efdbce",
   "metadata": {},
   "source": [
    "<h3> 1 </h3>"
   ]
  },
  {
   "cell_type": "code",
   "execution_count": 31,
   "id": "c2b2ccf2-3d89-4376-b5f4-d7415e9cc0ef",
   "metadata": {},
   "outputs": [
    {
     "name": "stdin",
     "output_type": "stream",
     "text": [
      "enter the percentage 4\n"
     ]
    },
    {
     "name": "stdout",
     "output_type": "stream",
     "text": [
      "D\n"
     ]
    }
   ],
   "source": [
    "percent = int(input('enter the percentage'))\n",
    "\n",
    "if percent>90:\n",
    "    print('A')\n",
    "elif percent>80 and percent<=90:\n",
    "    print('B')\n",
    "elif percent>=60 and percent<=80:\n",
    "    print('C')\n",
    "else:\n",
    "    print('D')"
   ]
  },
  {
   "cell_type": "markdown",
   "id": "40e684bd-25f1-42e6-ad39-4346664e25d1",
   "metadata": {},
   "source": [
    "<h3>2</h3>"
   ]
  },
  {
   "cell_type": "code",
   "execution_count": 32,
   "id": "13baeafe-bb5f-45a6-ad3a-2cacc2f873a9",
   "metadata": {},
   "outputs": [
    {
     "name": "stdin",
     "output_type": "stream",
     "text": [
      "Please enter the price 500\n"
     ]
    },
    {
     "name": "stdout",
     "output_type": "stream",
     "text": [
      "Road tax to be paid id 25.0\n"
     ]
    }
   ],
   "source": [
    "price = int(input('Please enter the price'))\n",
    "if price>100000:\n",
    "    print('Road tax to be paid id {}'.format(price*0.15))\n",
    "elif price>50000 and price<=100000:\n",
    "    print('Road tax to be paid id {}'.format(price*0.10))\n",
    "else:\n",
    "    print('Road tax to be paid id {}'.format(price*0.05))"
   ]
  },
  {
   "cell_type": "markdown",
   "id": "e1c0a447-cb9a-4f1e-b38a-a9da623a3ae0",
   "metadata": {},
   "source": [
    "<h3> 3 </h3>"
   ]
  },
  {
   "cell_type": "code",
   "execution_count": 33,
   "id": "d5b03e0d-79d8-487f-8aff-9bd9450cb3c8",
   "metadata": {},
   "outputs": [
    {
     "name": "stdin",
     "output_type": "stream",
     "text": [
      "Please enter the city name delhi\n"
     ]
    },
    {
     "name": "stdout",
     "output_type": "stream",
     "text": [
      "Red Fort\n"
     ]
    }
   ],
   "source": [
    "city = input('Please enter the city name').lower()\n",
    "if city=='delhi':\n",
    "    print('Red Fort')\n",
    "elif city == 'agra':\n",
    "    print('Taj Mahal')\n",
    "elif city == 'jaipur':\n",
    "    print('Jal Mahal')\n",
    "else:\n",
    "    print('Not in the list')"
   ]
  },
  {
   "cell_type": "markdown",
   "id": "b5ee1524-0bbf-448f-898d-f70a5ed8f5b7",
   "metadata": {},
   "source": [
    "<h3> 4 </h3>"
   ]
  },
  {
   "cell_type": "code",
   "execution_count": 34,
   "id": "3bb069e2-47d9-4d97-a8bf-f9b5eccc0801",
   "metadata": {},
   "outputs": [
    {
     "name": "stdout",
     "output_type": "stream",
     "text": [
      "4\n"
     ]
    }
   ],
   "source": [
    "count = 0\n",
    "for i in range(11):\n",
    "    if i%3==0:\n",
    "        count = count+1\n",
    "print(count)"
   ]
  },
  {
   "cell_type": "markdown",
   "id": "ee92a76b-a088-41f0-9a0e-1255ad7ea376",
   "metadata": {},
   "source": [
    "<h3> 5 </h3>"
   ]
  },
  {
   "cell_type": "markdown",
   "id": "cd0c87fb-5158-45a9-8e1a-4d9b1a46a05c",
   "metadata": {},
   "source": [
    "While loops in Python are used when you want to repeat a block of code as long as a certain condition is met. The code inside the loop will be executed repeatedly until the condition becomes false."
   ]
  },
  {
   "cell_type": "code",
   "execution_count": 35,
   "id": "2eca8374-03d0-4190-b1d4-e753977c4580",
   "metadata": {},
   "outputs": [
    {
     "name": "stdout",
     "output_type": "stream",
     "text": [
      "table of 5\n",
      "5\n",
      "10\n",
      "15\n",
      "20\n",
      "25\n",
      "30\n",
      "35\n",
      "40\n",
      "45\n",
      "50\n"
     ]
    }
   ],
   "source": [
    "count = 1\n",
    "print('table of 5')\n",
    "while count <= 10:\n",
    "    print(5*count)\n",
    "    count += 1\n"
   ]
  },
  {
   "cell_type": "markdown",
   "id": "42935ea9-f701-4c96-abc8-e51d3151bb78",
   "metadata": {},
   "source": [
    "<h3> 6 </h3>"
   ]
  },
  {
   "cell_type": "code",
   "execution_count": 26,
   "id": "a5037496-7fcc-4691-931f-48bf2708a18d",
   "metadata": {},
   "outputs": [
    {
     "name": "stdout",
     "output_type": "stream",
     "text": [
      "*\n",
      "**\n",
      "***\n",
      "****\n",
      "*****\n"
     ]
    }
   ],
   "source": [
    "# Triangle\n",
    "n = 5\n",
    "i = 1\n",
    "while i <= n:\n",
    "    j = 1\n",
    "    while j <= i:\n",
    "        print(\"*\", end=\"\")\n",
    "        j += 1\n",
    "    print(\"\")\n",
    "    i += 1\n"
   ]
  },
  {
   "cell_type": "code",
   "execution_count": 27,
   "id": "554dc902-6790-42b0-91a1-5b33552a6f47",
   "metadata": {},
   "outputs": [
    {
     "name": "stdout",
     "output_type": "stream",
     "text": [
      "*****\n",
      "****\n",
      "***\n",
      "**\n",
      "*\n"
     ]
    }
   ],
   "source": [
    "# inverted triangle\n",
    "n = 5\n",
    "i = n\n",
    "while i >= 1:\n",
    "    j = i\n",
    "    while j >= 1:\n",
    "        print(\"*\", end=\"\")\n",
    "        j -= 1\n",
    "    print(\"\")\n",
    "    i -= 1\n"
   ]
  },
  {
   "cell_type": "code",
   "execution_count": 28,
   "id": "81910d4e-d488-4ebd-8b4a-c4669b81a795",
   "metadata": {},
   "outputs": [
    {
     "name": "stdout",
     "output_type": "stream",
     "text": [
      "    1\n",
      "   12\n",
      "  123\n",
      " 1234\n",
      "12345\n"
     ]
    }
   ],
   "source": [
    "# number pyramid\n",
    "n = 5\n",
    "i = 1\n",
    "while i <= n:\n",
    "    j = 1\n",
    "    while j <= (n - i):\n",
    "        print(\" \", end=\"\")\n",
    "        j += 1\n",
    "    k = 1\n",
    "    while k <= i:\n",
    "        print(k, end=\"\")\n",
    "        k += 1\n",
    "    print(\"\")\n",
    "    i += 1\n"
   ]
  },
  {
   "cell_type": "markdown",
   "id": "572f73fc-bac0-41b4-b361-a3e73ce8e963",
   "metadata": {},
   "source": [
    "<h3> 7 and 8 </h3>"
   ]
  },
  {
   "cell_type": "code",
   "execution_count": 36,
   "id": "a72137f2-9c4d-4da7-b026-c5c8c8cf9219",
   "metadata": {},
   "outputs": [
    {
     "name": "stdout",
     "output_type": "stream",
     "text": [
      "10\n",
      "9\n",
      "8\n",
      "7\n",
      "6\n",
      "5\n",
      "4\n",
      "3\n",
      "2\n",
      "1\n"
     ]
    }
   ],
   "source": [
    "count = 10\n",
    "while count>0:\n",
    "    print(count)\n",
    "    count = count-1"
   ]
  },
  {
   "cell_type": "code",
   "execution_count": null,
   "id": "9036cf5e-31ad-464e-818f-121c91944bd3",
   "metadata": {},
   "outputs": [],
   "source": []
  }
 ],
 "metadata": {
  "kernelspec": {
   "display_name": "Python 3 (ipykernel)",
   "language": "python",
   "name": "python3"
  },
  "language_info": {
   "codemirror_mode": {
    "name": "ipython",
    "version": 3
   },
   "file_extension": ".py",
   "mimetype": "text/x-python",
   "name": "python",
   "nbconvert_exporter": "python",
   "pygments_lexer": "ipython3",
   "version": "3.10.8"
  }
 },
 "nbformat": 4,
 "nbformat_minor": 5
}
