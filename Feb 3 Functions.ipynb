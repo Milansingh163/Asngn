{
 "cells": [
  {
   "cell_type": "markdown",
   "id": "a9f9a6a7",
   "metadata": {},
   "source": [
    "<h3>Q1. Which keyword is used to create a function? Create a function to return a list of odd numbers in the\n",
    "range of 1 to 25. </h3>\n",
    "<br>\n",
    "Answer\n",
    "<br>\n",
    "In Python, the keyword used to create a function is def."
   ]
  },
  {
   "cell_type": "code",
   "execution_count": 3,
   "id": "b59916ee",
   "metadata": {},
   "outputs": [
    {
     "name": "stdout",
     "output_type": "stream",
     "text": [
      "[1, 3, 5, 7, 9, 11, 13, 15, 17, 19, 21, 23, 25]\n"
     ]
    }
   ],
   "source": [
    "def get_odd_numbers(limit):\n",
    "    odd_numbers = []\n",
    "    for i in range(1, limit + 1):\n",
    "        if i % 2 != 0:\n",
    "            odd_numbers.append(i)\n",
    "    return odd_numbers\n",
    "\n",
    "print(get_odd_numbers(25))\n"
   ]
  },
  {
   "cell_type": "markdown",
   "id": "0d144628",
   "metadata": {},
   "source": [
    "<h3>Q2. Why *args and **kwargs is used in some functions? Create a function each for *args and **kwargs to\n",
    "demonstrate their use.</h3>\n",
    "<br>\n",
    "Answer\n",
    "<br>\n",
    "*args and **kwargs are used in functions to allow them to accept an arbitrary number of positional and keyword arguments, respectively.\n",
    "\n",
    "*args is used to send a non-keyworded variable length argument list to the function. This is represented by the * symbol in the function definition, followed by the name of the argument (in this case, args)."
   ]
  },
  {
   "cell_type": "code",
   "execution_count": 4,
   "id": "97d4ff3d",
   "metadata": {},
   "outputs": [
    {
     "name": "stdout",
     "output_type": "stream",
     "text": [
      "1\n",
      "2\n",
      "3\n",
      "4\n",
      "5\n",
      "first_name: John\n",
      "last_name: Doe\n",
      "age: 30\n"
     ]
    }
   ],
   "source": [
    "def test_function(*args):\n",
    "    for arg in args:\n",
    "        print(arg)\n",
    "\n",
    "test_function(1, 2, 3, 4, 5)\n",
    "\n",
    "def test_function(**kwargs):\n",
    "    for key, value in kwargs.items():\n",
    "        print(f\"{key}: {value}\")\n",
    "\n",
    "test_function(first_name=\"John\", last_name=\"Doe\", age=30)\n"
   ]
  },
  {
   "cell_type": "markdown",
   "id": "ac9263f4",
   "metadata": {},
   "source": [
    "<h3>Q3. What is an iterator in python? Name the method used to initialise the iterator object and the method\n",
    "used for iteration. Use these methods to print the first five elements of the given list [2, 4, 6, 8, 10, 12, 14, 16,\n",
    "18, 20]. </h3>\n",
    "<br>\n",
    "Answer\n",
    "<br>\n",
    "An iterator is an object that can be iterated (looped) upon. An object which will return data, one element at a time.\n",
    "\n",
    "To create an iterator, you use the iter() method, which is used to initialize the iterator object. The next() method is used for iteration, which returns the next value from the iterator each time it is called.\n"
   ]
  },
  {
   "cell_type": "code",
   "execution_count": 5,
   "id": "5e68fe76",
   "metadata": {},
   "outputs": [
    {
     "name": "stdout",
     "output_type": "stream",
     "text": [
      "2\n",
      "4\n",
      "6\n",
      "8\n",
      "10\n"
     ]
    }
   ],
   "source": [
    "numbers = [2, 4, 6, 8, 10, 12, 14, 16, 18, 20]\n",
    "\n",
    "# Create an iterator object\n",
    "numbers_iterator = iter(numbers)\n",
    "\n",
    "# Iterate over the first five elements\n",
    "for i in range(5):\n",
    "    print(next(numbers_iterator))\n"
   ]
  },
  {
   "cell_type": "markdown",
   "id": "d0ac97a0",
   "metadata": {},
   "source": [
    "<h3>Q4. What is a generator function in python? Why yield keyword is used? Give an example of a generator\n",
    "function. </h3>\n",
    "<br>\n",
    "Answer\n",
    "<br>\n",
    "A generator function in Python is a special type of function that returns a generator iterator. The generator function is defined like a normal function, but instead of using the return keyword, it uses the yield keyword.\n",
    "\n",
    "The yield keyword is used in a generator function to return a value, but instead of terminating the function, it suspends the function’s execution and retains the current state of the function. This allows the generator function to be resumed later, and the next value in the sequence to be returned.\n"
   ]
  },
  {
   "cell_type": "code",
   "execution_count": 6,
   "id": "3f82bee0",
   "metadata": {},
   "outputs": [
    {
     "name": "stdout",
     "output_type": "stream",
     "text": [
      "0\n",
      "1\n",
      "1\n",
      "2\n",
      "3\n",
      "5\n",
      "8\n",
      "13\n",
      "21\n",
      "34\n"
     ]
    }
   ],
   "source": [
    "def fibonacci_sequence(limit):\n",
    "    a, b = 0, 1\n",
    "    while a < limit:\n",
    "        yield a\n",
    "        a, b = b, a + b\n",
    "\n",
    "# Create the generator object\n",
    "fib = fibonacci_sequence(100)\n",
    "\n",
    "# Print the first 10 numbers in the fibonacci sequence\n",
    "for i in range(10):\n",
    "    print(next(fib))\n"
   ]
  },
  {
   "cell_type": "markdown",
   "id": "3a078133",
   "metadata": {},
   "source": [
    "<h3>Q5. Create a generator function for prime numbers less than 1000. Use the next() method to print the\n",
    "first 20 prime numbers. </h3>\n",
    "<br>\n",
    "Answer\n",
    "<br>"
   ]
  },
  {
   "cell_type": "code",
   "execution_count": 7,
   "id": "084a3724",
   "metadata": {},
   "outputs": [
    {
     "name": "stdout",
     "output_type": "stream",
     "text": [
      "2\n",
      "3\n",
      "5\n",
      "7\n",
      "11\n",
      "13\n",
      "17\n",
      "19\n",
      "23\n",
      "29\n",
      "31\n",
      "37\n",
      "41\n",
      "43\n",
      "47\n",
      "53\n",
      "59\n",
      "61\n",
      "67\n",
      "71\n"
     ]
    }
   ],
   "source": [
    "def prime_numbers(limit):\n",
    "    primes = []\n",
    "    for number in range(2, limit):\n",
    "        for prime in primes:\n",
    "            if number % prime == 0:\n",
    "                break\n",
    "        else:\n",
    "            primes.append(number)\n",
    "            yield number\n",
    "\n",
    "# Create the generator object\n",
    "primes = prime_numbers(1000)\n",
    "\n",
    "# Print the first 20 prime numbers\n",
    "for i in range(20):\n",
    "    print(next(primes))\n"
   ]
  },
  {
   "cell_type": "code",
   "execution_count": null,
   "id": "2268de2a",
   "metadata": {},
   "outputs": [],
   "source": []
  }
 ],
 "metadata": {
  "kernelspec": {
   "display_name": "Python 3 (ipykernel)",
   "language": "python",
   "name": "python3"
  },
  "language_info": {
   "codemirror_mode": {
    "name": "ipython",
    "version": 3
   },
   "file_extension": ".py",
   "mimetype": "text/x-python",
   "name": "python",
   "nbconvert_exporter": "python",
   "pygments_lexer": "ipython3",
   "version": "3.9.13"
  }
 },
 "nbformat": 4,
 "nbformat_minor": 5
}
