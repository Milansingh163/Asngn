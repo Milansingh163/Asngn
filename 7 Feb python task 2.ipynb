{
 "cells": [
  {
   "cell_type": "markdown",
   "id": "6cdb3b66",
   "metadata": {},
   "source": [
    "Q1. You are writing code for a company. The requirement of the company is that you create a python\n",
    "function that will check whether the password entered by the user is correct or not. The function should\n",
    "take the password as input and return the string “Valid Password” if the entered password follows the\n",
    "below-given password guidelines else it should return “Invalid Password”.\n",
    "<p>1. The Password should contain at least two uppercase letters and at least two lowercase letters.<br>\n",
    "2. The Password should contain at least a number and three special characters.<br>\n",
    "3. The length of the password should be 10 characters long.\n",
    "</p>"
   ]
  },
  {
   "cell_type": "code",
   "execution_count": 99,
   "id": "ef2dd2d8",
   "metadata": {},
   "outputs": [
    {
     "name": "stdout",
     "output_type": "stream",
     "text": [
      "enter your password : AAaa@@33$1\n",
      "Valid password\n"
     ]
    }
   ],
   "source": [
    "from string import punctuation\n",
    "# import is get list of all special characters that can be used in password\n",
    "\n",
    "def valid_password(password):\n",
    "    if len(password)==10: # as the question says password should be 10 characters long neither less nor more\n",
    "        count_special_characters=0\n",
    "        count_digit = 0\n",
    "        count_uppercase=0\n",
    "        count_lowercase=0\n",
    "        for letter in password:\n",
    "            if letter.isupper()==True:\n",
    "                count_uppercase+=1\n",
    "            if letter.islower()==True:\n",
    "                count_lowercase+=1\n",
    "            if letter.isnumeric()== True:\n",
    "                count_digit+=1\n",
    "            if letter in list(punctuation):\n",
    "                count_special_characters+=1\n",
    "        if (count_digit>=1) and (count_special_characters>=3) and (count_uppercase>=2) and (count_lowercase>=2):\n",
    "            print('Valid password')\n",
    "        else:\n",
    "            print('Invalid Password')\n",
    "            \n",
    "    else:\n",
    "        print('Invalid Password')\n",
    "password_attemp = input('enter your password : ')\n",
    "valid_password(password_attemp)"
   ]
  },
  {
   "cell_type": "markdown",
   "id": "4208774e",
   "metadata": {},
   "source": [
    "Q2. Solve the below-given questions using at least one of the following:\n",
    "1. Lambda function\n",
    "2. Filter function\n",
    "3. Map function\n",
    "4. List Comprehension"
   ]
  },
  {
   "cell_type": "markdown",
   "id": "f9f68b8c",
   "metadata": {},
   "source": [
    "Check if the string starts with a particular letter"
   ]
  },
  {
   "cell_type": "code",
   "execution_count": 101,
   "id": "cb5b63b5",
   "metadata": {},
   "outputs": [
    {
     "name": "stdout",
     "output_type": "stream",
     "text": [
      "Enter your string : The data science thing\n"
     ]
    },
    {
     "data": {
      "text/plain": [
       "'string starts with T'"
      ]
     },
     "execution_count": 101,
     "metadata": {},
     "output_type": "execute_result"
    }
   ],
   "source": [
    "# here i we have to write a function is the string starts with 'T' or not\n",
    "user_word = lambda x : 'string starts with T' if x.startswith('T')==True  else 'it does not start with T'\n",
    "user_word(input('Enter your string : '))"
   ]
  },
  {
   "cell_type": "markdown",
   "id": "ee4ba504",
   "metadata": {},
   "source": [
    "Check if the string is numeric"
   ]
  },
  {
   "cell_type": "code",
   "execution_count": 102,
   "id": "3ebd0fa7",
   "metadata": {},
   "outputs": [
    {
     "name": "stdout",
     "output_type": "stream",
     "text": [
      "enter your string : 45\n"
     ]
    },
    {
     "data": {
      "text/plain": [
       "'string is numric'"
      ]
     },
     "execution_count": 102,
     "metadata": {},
     "output_type": "execute_result"
    }
   ],
   "source": [
    "word = lambda x : 'string is numric' if x.isnumeric()==True else 'string is not numric'\n",
    "word(input('enter your string : '))"
   ]
  },
  {
   "cell_type": "markdown",
   "id": "7de9cf79",
   "metadata": {},
   "source": [
    "Sort a list of tuples having fruit names and their quantity. [(\"mango\",99),(\"orange\",80), (\"grapes\", 1000)-"
   ]
  },
  {
   "cell_type": "code",
   "execution_count": 103,
   "id": "29228140",
   "metadata": {},
   "outputs": [
    {
     "name": "stdout",
     "output_type": "stream",
     "text": [
      "[('orange', 80), ('mango', 99), ('grapes', 1000)]\n",
      "[('grapes', 1000), ('mango', 99), ('orange', 80)]\n"
     ]
    }
   ],
   "source": [
    "fruit =  [(\"mango\",99),(\"orange\",80), (\"grapes\", 1000)]\n",
    "# sorting according to quantity\n",
    "sorted_fruit_quantity = sorted(fruit,key=lambda x : x[1])\n",
    "print(sorted_fruit_quantity)\n",
    "# sorting according to fruit name\n",
    "sorted_fruit_name = sorted(fruit,key=lambda x : x[0])\n",
    "print(sorted_fruit_name)"
   ]
  },
  {
   "cell_type": "markdown",
   "id": "32734b33",
   "metadata": {},
   "source": [
    "Find the squares of numbers from 1 to 10"
   ]
  },
  {
   "cell_type": "code",
   "execution_count": 104,
   "id": "b6755b4a",
   "metadata": {},
   "outputs": [
    {
     "name": "stdout",
     "output_type": "stream",
     "text": [
      "1\n",
      "4\n",
      "9\n",
      "16\n",
      "25\n",
      "36\n",
      "49\n",
      "64\n",
      "81\n",
      "100\n"
     ]
    }
   ],
   "source": [
    "square_of_num = map(lambda x : x**2,range(1,11))\n",
    "for i in list(square_of_num):\n",
    "    print(i)"
   ]
  },
  {
   "cell_type": "markdown",
   "id": "ee952b4a",
   "metadata": {},
   "source": [
    "Find the cube root of numbers from 1 to 10"
   ]
  },
  {
   "cell_type": "code",
   "execution_count": 105,
   "id": "74e98726",
   "metadata": {},
   "outputs": [
    {
     "name": "stdout",
     "output_type": "stream",
     "text": [
      "1.0\n",
      "1.2599210498948732\n",
      "1.4422495703074083\n",
      "1.5874010519681994\n",
      "1.7099759466766968\n",
      "1.8171205928321397\n",
      "1.912931182772389\n",
      "2.0\n",
      "2.080083823051904\n",
      "2.154434690031884\n"
     ]
    }
   ],
   "source": [
    "import math\n",
    "cube_root_of_1to10 = map(lambda x: math.pow(x,(1/3)),range(1,11))\n",
    "for i in list(cube_root_of_1to10):\n",
    "    print(i)"
   ]
  },
  {
   "cell_type": "markdown",
   "id": "8fe241d8",
   "metadata": {},
   "source": [
    "Check if a given number is even"
   ]
  },
  {
   "cell_type": "code",
   "execution_count": 106,
   "id": "7797d9f4",
   "metadata": {},
   "outputs": [
    {
     "name": "stdout",
     "output_type": "stream",
     "text": [
      "enter the number : 4\n"
     ]
    },
    {
     "data": {
      "text/plain": [
       "'4 is even'"
      ]
     },
     "execution_count": 106,
     "metadata": {},
     "output_type": "execute_result"
    }
   ],
   "source": [
    "is_even = lambda x : '{} is even'.format(x) if x%2==0 else '{} is not even'.format(x)\n",
    "is_even(int(input('enter the number : ')))"
   ]
  },
  {
   "cell_type": "markdown",
   "id": "d5ac29d7",
   "metadata": {},
   "source": [
    "Filter odd numbers from the given list.\n",
    "[1,2,3,4,5,6,7,8,9,10]"
   ]
  },
  {
   "cell_type": "code",
   "execution_count": 107,
   "id": "0b71cedf",
   "metadata": {},
   "outputs": [
    {
     "name": "stdout",
     "output_type": "stream",
     "text": [
      "[1, 3, 5, 7, 9]\n"
     ]
    }
   ],
   "source": [
    "numbers = [1,2,3,4,5,6,7,8,9,10]\n",
    "odd_number = list(filter(lambda x : x%2==1,numbers))\n",
    "print(odd_number)"
   ]
  },
  {
   "cell_type": "markdown",
   "id": "2772478a",
   "metadata": {},
   "source": [
    "Sort a list of integers into positive and negative integers lists.\n",
    "[1,2,3,4,5,6,-1,-2,-3,-4,-5,0]"
   ]
  },
  {
   "cell_type": "code",
   "execution_count": 108,
   "id": "c54842a6",
   "metadata": {},
   "outputs": [
    {
     "name": "stdout",
     "output_type": "stream",
     "text": [
      "[0, 1, 2, 3, 4, 5, 6]\n",
      "[-5, -4, -3, -2, -1]\n"
     ]
    }
   ],
   "source": [
    "list1 = [1,2,3,4,5,6,-1,-2,-3,-4,-5,0]\n",
    "p = []\n",
    "n = []\n",
    "a = [ p.append(i) if i>=0 else n.append(i) for i in list1 ] \n",
    "p.sort()\n",
    "n.sort()\n",
    "print(p)\n",
    "print(n)"
   ]
  }
 ],
 "metadata": {
  "kernelspec": {
   "display_name": "Python 3 (ipykernel)",
   "language": "python",
   "name": "python3"
  },
  "language_info": {
   "codemirror_mode": {
    "name": "ipython",
    "version": 3
   },
   "file_extension": ".py",
   "mimetype": "text/x-python",
   "name": "python",
   "nbconvert_exporter": "python",
   "pygments_lexer": "ipython3",
   "version": "3.9.13"
  }
 },
 "nbformat": 4,
 "nbformat_minor": 5
}
